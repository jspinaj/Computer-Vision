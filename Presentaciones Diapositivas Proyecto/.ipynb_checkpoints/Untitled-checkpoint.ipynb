{
 "cells": [
  {
   "cell_type": "markdown",
   "id": "898dd8b5",
   "metadata": {},
   "source": [
    "<p style=\"font-size:300%; background-color:silver; color:teal; text-align:center;line-height : 80px; margin : 0; padding : 0;\">\n",
    "Proyecto Identificador de Señales de Tránsito</p>\n",
    "<p style=\"font-size:240%; background-color:silver; color:maroon; text-align:center;line-height : 60px; margin : 0; padding : 0;\">\n",
    "Técnicas de Inteligencia Artificial - Visión de máquina</p1>\n",
    "\n",
    "<p style=\"font-size:180%; text-align:center;line-height : 30px; margin-top : 0; margin-bottom: 0; \"> <br>Juan Sebastian Dueñas</p>\n",
    "<p style=\"font-size:180%; text-align:center;line-height : 30px; margin-top : 0; \"> Juan Sebastian Piña</p>\n",
    "<p style=\"font-size:180%; text-align:center;line-height : 30px; margin-top : 0; \"> Michael Alexander Rodríguez</p>\n",
    "<p style=\"font-size:180%; text-align:center;line-height : 30px; margin-top : 0; margin-bottom: 0; \"> <br>Pr. Flavio Prieto</p>\n"
   ]
  },
  {
   "cell_type": "code",
   "execution_count": null,
   "id": "11baf27d",
   "metadata": {},
   "outputs": [],
   "source": []
  }
 ],
 "metadata": {
  "kernelspec": {
   "display_name": "Python 3 (ipykernel)",
   "language": "python",
   "name": "python3"
  },
  "language_info": {
   "codemirror_mode": {
    "name": "ipython",
    "version": 3
   },
   "file_extension": ".py",
   "mimetype": "text/x-python",
   "name": "python",
   "nbconvert_exporter": "python",
   "pygments_lexer": "ipython3",
   "version": "3.7.0"
  }
 },
 "nbformat": 4,
 "nbformat_minor": 5
}
