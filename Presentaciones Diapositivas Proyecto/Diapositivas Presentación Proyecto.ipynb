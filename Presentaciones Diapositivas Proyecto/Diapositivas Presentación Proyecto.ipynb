{
 "cells": [
  {
   "cell_type": "markdown",
   "id": "8505c730",
   "metadata": {},
   "source": [
    "<p style=\"font-size:300%; background-color:silver; color:teal; text-align:center;line-height : 80px; margin : 0; padding : 0;\">\n",
    "Proyecto Identificador de Señales de Tránsito</p>\n",
    "<p style=\"font-size:240%; background-color:silver; color:maroon; text-align:center;line-height : 60px; margin : 0; padding : 0;\">\n",
    "Técnicas de Inteligencia Artificial - Visión de máquina</p1>\n",
    "\n",
    "<p style=\"font-size:180%; text-align:center;line-height : 30px; margin-top : 0; margin-bottom: 0; \"> <br>Juan Sebastian Dueñas</p>\n",
    "<p style=\"font-size:180%; text-align:center;line-height : 30px; margin-top : 0; \"> Juan Sebastian Piña</p>\n",
    "<p style=\"font-size:180%; text-align:center;line-height : 30px; margin-top : 0; \"> Michael Alexander Rodríguez</p>\n",
    "<p style=\"font-size:180%; text-align:center;line-height : 30px; margin-top : 0; margin-bottom: 0; \"> <br>Pr. Flavio Prieto</p>\n",
    "<p style=\"font-size:160%; text-align:center;line-height : 20px; margin-top : 0; \"> email: faprietoo@unal.edu.co</p>\n",
    "<p style=\"font-size:180%; text-align:center;line-height : 30px; margin-top : 0; margin-bottom: 0; \"> <br><br>INGENIERÍA MECATRÓNICA</p>\n",
    "<p style=\"font-size:180%; text-align:center;line-height : 30px; margin-top : 0; \"> Facultad de Ingeniería</p>\n",
    "<p style=\"font-size:160%; text-align:center;line-height : 20px; margin-top : 0; \"> Universidad Nacional de Colombia, Sede Bogotá</p>\n",
    "<br>\n",
    "<img src=\"Imagenes/Escudo_U_Nacional.png\" width=\"70\" height=\"70\">\n",
    "<p style=\"font-size:160%; text-align:center;line-height : 30px; margin-top : 0; \"> <br>23 de agosto de 2021</p>"
   ]
  },
  {
   "cell_type": "markdown",
   "id": "2a8baeb3",
   "metadata": {},
   "source": [
    "' <h1 style=\"font-size:200%; background-color:silver; color:teal; text-align:center;line-height : 50px;\">\n",
    "Planteamiento del Problema.</h1>'\n",
    "\n",
    "### ¿La seguridad en colombia.................?\n",
    "\n",
    "![Imagen Problema](Imagenes/Presentacion_primera_entrega/pregunta.jpg)\n"
   ]
  },
  {
   "cell_type": "markdown",
   "id": "5050f9f5",
   "metadata": {},
   "source": [
    "'<h1 style=\"font-size:200%; background-color:silver; color:teal; text-align:center;line-height : 50px;\">\n",
    "Estado del Arte.</h1>'\n",
    "\n",
    "### Sistema de asistencia a la conducción usando visión por computadora y aprendizaje máquina\n",
    "\n",
    "![Imagen Problema](Imagenes/Presentacion_primera_entrega/EAfasem.jpg)"
   ]
  },
  {
   "cell_type": "markdown",
   "id": "5d49bb96",
   "metadata": {},
   "source": [
    "'<h1 style=\"font-size:200%; background-color:silver; color:teal; text-align:center;line-height : 50px;\">\n",
    "Estado del Arte.</h1>'\n",
    "\n",
    "![Imagen Problema](Imagenes/Presentacion_primera_entrega/EAimagenesm.jpg)\n"
   ]
  },
  {
   "cell_type": "markdown",
   "id": "66f9d140",
   "metadata": {},
   "source": [
    "'<h1 style=\"font-size:200%; background-color:silver; color:teal; text-align:center;line-height : 50px;\">\n",
    "Objetivos del Proyecto</h1>'\n",
    "\n",
    "## Objetivo General:\n",
    "\n",
    "#### Desarrollar un algoritmo de detección automática de señales de transito utilizando imágenes digitales para un sistema de asistencia al conductor.\n",
    "\n",
    "## Objetivos Específicos:\n",
    "\n",
    "#### - Adecuar imágenes para la detección correcta de señales de tránsito.\n",
    "#### - Diseñar un clasificador para detectar diferentes geometrías presentes en las señales de tránsito. \n",
    "#### - Generar robustez de detección ante distintos condiciones ambientales.\n",
    "#### - Evaluar el desempe ̃no del algoritmo"
   ]
  },
  {
   "cell_type": "markdown",
   "id": "cfc0a0ed",
   "metadata": {},
   "source": [
    "'<h1 style=\"font-size:200%; background-color:silver; color:teal; text-align:center;line-height : 50px;\">\n",
    "Metodología</h1>'"
   ]
  },
  {
   "cell_type": "markdown",
   "id": "c83c499f",
   "metadata": {},
   "source": [
    "'<h1 style=\"font-size:200%; background-color:silver; color:teal; text-align:center;line-height : 50px;\">\n",
    "Resultados Esperados</h1>'\n",
    "\n",
    "![Imagen Problema](Imagenes/Presentacion_primera_entrega/senalesTransito.jpg)"
   ]
  },
  {
   "cell_type": "markdown",
   "id": "06e63cb5",
   "metadata": {},
   "source": [
    "'<h1 style=\"font-size:200%; background-color:silver; color:teal; text-align:center;line-height : 50px;\">\n",
    "Cronograma</h1>'"
   ]
  },
  {
   "cell_type": "markdown",
   "id": "953f3bd9",
   "metadata": {},
   "source": []
  },
  {
   "cell_type": "code",
   "execution_count": null,
   "id": "e400bea8",
   "metadata": {},
   "outputs": [],
   "source": []
  }
 ],
 "metadata": {
  "kernelspec": {
   "display_name": "Python 3 (ipykernel)",
   "language": "python",
   "name": "python3"
  },
  "language_info": {
   "codemirror_mode": {
    "name": "ipython",
    "version": 3
   },
   "file_extension": ".py",
   "mimetype": "text/x-python",
   "name": "python",
   "nbconvert_exporter": "python",
   "pygments_lexer": "ipython3",
   "version": "3.7.0"
  }
 },
 "nbformat": 4,
 "nbformat_minor": 5
}
