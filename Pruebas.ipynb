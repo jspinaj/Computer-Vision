{
  "nbformat": 4,
  "nbformat_minor": 0,
  "metadata": {
    "colab": {
      "name": "Pruebas.ipynb",
      "provenance": [],
      "collapsed_sections": [],
      "authorship_tag": "ABX9TyOaHB4wXe3MpCCgQQLdB95N",
      "include_colab_link": true
    },
    "kernelspec": {
      "name": "python3",
      "display_name": "Python 3"
    },
    "language_info": {
      "name": "python"
    }
  },
  "cells": [
    {
      "cell_type": "markdown",
      "metadata": {
        "id": "view-in-github",
        "colab_type": "text"
      },
      "source": [
        "<a href=\"https://colab.research.google.com/github/jspinaj/Computer-Vision/blob/main/Pruebas.ipynb\" target=\"_parent\"><img src=\"https://colab.research.google.com/assets/colab-badge.svg\" alt=\"Open In Colab\"/></a>"
      ]
    },
    {
      "cell_type": "markdown",
      "metadata": {
        "id": "xlM7W35dORIe"
      },
      "source": [
        "#Prueba Jupyter Notebook\n"
      ]
    },
    {
      "cell_type": "code",
      "metadata": {
        "colab": {
          "base_uri": "https://localhost:8080/"
        },
        "id": "PH9FsjKsObVO",
        "outputId": "e9cdbcfb-e996-46bb-a6c4-a08296ea0932"
      },
      "source": [
        "def fib(n):\n",
        "  if(n==1):\n",
        "    return 0\n",
        "  elif(n==2):\n",
        "    return 1\n",
        "  else:\n",
        "    return fib(n-2)+fib(n-1)\n",
        "\n",
        "print(fib(40))\n"
      ],
      "execution_count": 10,
      "outputs": [
        {
          "output_type": "stream",
          "name": "stdout",
          "text": [
            "63245986\n"
          ]
        }
      ]
    }
  ]
}