{
 "cells": [
  {
   "cell_type": "markdown",
   "id": "07a00c54-6a8c-4e80-8b7e-640bfcaeea2a",
   "metadata": {},
   "source": [
    "# Operaciones morfológicas"
   ]
  },
  {
   "cell_type": "code",
   "execution_count": null,
   "id": "53aec2b8-2846-4aab-b670-382b1890aa59",
   "metadata": {},
   "outputs": [],
   "source": [
    "#importación de librerías\n",
    "import cv2     #Librería OpenCV\n",
    "from IPython.display import Image   #Libreria impresión de imagenes\n",
    "import numpy as np                  #Importación numpy\n",
    "from matplotlib import pyplot as plt  #Impresión de gráficas"
   ]
  },
  {
   "cell_type": "code",
   "execution_count": null,
   "id": "b29604ab-8724-4fc4-b882-38f2bd5b816d",
   "metadata": {},
   "outputs": [],
   "source": [
    "#lectura de las imágenes\n",
    "ima1=cv2.imread(\"img/ima3.jpeg\")\n",
    "ima2=cv2.imread(\"img/ima6.jpeg\")\n",
    "ima3=cv2.imread(\"img/ima7.jpg\")\n",
    "ima4=cv2.imread(\"img/ima8.jpg\")\n",
    "ima5=cv2.imread(\"img/ima9.jpg\")\n",
    "ima6=cv2.imread(\"img/ima10.jpg\")\n",
    "ima7=cv2.imread(\"img/ima11.jpg\")\n",
    "#conversión de las imágenes de BGR a RGB\n",
    "ima1=cv2.cvtColor(ima1,cv2.COLOR_BGR2RGB)\n",
    "ima2=cv2.cvtColor(ima2,cv2.COLOR_BGR2RGB)\n",
    "ima3=cv2.cvtColor(ima3,cv2.COLOR_BGR2RGB)\n",
    "ima4=cv2.cvtColor(ima4,cv2.COLOR_BGR2RGB)\n",
    "ima5=cv2.cvtColor(ima5,cv2.COLOR_BGR2RGB)\n",
    "ima6=cv2.cvtColor(ima6,cv2.COLOR_BGR2RGB)\n",
    "ima7=cv2.cvtColor(ima7,cv2.COLOR_BGR2RGB)\n",
    "#se imprimen las imágenes para verificar correcto funcionamiento\n",
    "plt.figure(1);\n",
    "plt.subplot(4,2,1);plt.imshow(ima1),plt.title('Imagen 1')\n",
    "plt.subplot(4,2,2);plt.imshow(ima2),plt.title('Imagen 2')\n",
    "plt.subplot(4,2,3);plt.imshow(ima3),plt.title('Imagen 3')\n",
    "plt.subplot(4,2,4);plt.imshow(ima4),plt.title('Imagen 4')\n",
    "plt.subplot(4,2,5);plt.imshow(ima5),plt.title('Imagen 5')\n",
    "plt.subplot(4,2,6);plt.imshow(ima6),plt.title('Imagen 6')\n",
    "plt.subplot(4,2,7);plt.imshow(ima7),plt.title('Imagen 7')\n",
    "plt.subplots_adjust(top=4, bottom=0.1, left=0.10, right=3, hspace=0.1, wspace=0.2)"
   ]
  },
  {
   "cell_type": "code",
   "execution_count": null,
   "id": "2679c64e-fd9f-4293-8f91-bdb1c84db4d3",
   "metadata": {},
   "outputs": [],
   "source": [
    "def umb_adap(imagen,sz,c):\n",
    "    imagen=cv2.cvtColor(imagen,cv2.COLOR_RGB2YCrCb)\n",
    "    Y,Cr,Cb = cv2.split(imagen)\n",
    "    ima = cv2.adaptiveThreshold(Cr,255,cv2.ADAPTIVE_THRESH_GAUSSIAN_C,cv2.THRESH_BINARY,sz,c)\n",
    "    return ima"
   ]
  },
  {
   "cell_type": "code",
   "execution_count": null,
   "id": "fc3d53bd-649c-48da-b541-253829962158",
   "metadata": {},
   "outputs": [],
   "source": [
    "def dilatacion(imagen,a,b,n):\n",
    "    # Creación de elementos estructurantes\n",
    "    kernel1 = cv2.getStructuringElement(cv2.MORPH_RECT,(a,b))\n",
    "    kernel2 = cv2.getStructuringElement(cv2.MORPH_ELLIPSE,(a,b))\n",
    "    kernel3 = cv2.getStructuringElement(cv2.MORPH_CROSS,(a,b))\n",
    "    rect = cv2.dilate(imagen,kernel1,n)\n",
    "    elipse = cv2.dilate(imagen,kernel2,n)\n",
    "    cross = cv2.dilate(imagen,kernel3,n)\n",
    "    return rect, elipse, cross"
   ]
  },
  {
   "cell_type": "code",
   "execution_count": null,
   "id": "ee69729b-cf9e-42b5-88c7-6842323ec1ec",
   "metadata": {},
   "outputs": [],
   "source": [
    "def erosion(imagen,a,b,n):\n",
    "    # Creación de elementos estructurantes\n",
    "    kernel1 = cv2.getStructuringElement(cv2.MORPH_RECT,(a,b))\n",
    "    kernel2 = cv2.getStructuringElement(cv2.MORPH_ELLIPSE,(a,b))\n",
    "    kernel3 = cv2.getStructuringElement(cv2.MORPH_CROSS,(a,b))\n",
    "    rect = cv2.erode(imagen,kernel1,n)\n",
    "    elipse = cv2.erode(imagen,kernel2,n)\n",
    "    cross = cv2.erode(imagen,kernel3,n)\n",
    "    return rect, elipse, cross"
   ]
  },
  {
   "cell_type": "code",
   "execution_count": null,
   "id": "13cddf8a-7602-432f-b5af-bc957374dde5",
   "metadata": {},
   "outputs": [],
   "source": [
    "def apertura(imagen,a,b,n):\n",
    "    # Creación de elementos estructurantes\n",
    "    kernel1 = cv2.getStructuringElement(cv2.MORPH_RECT,(a,b))\n",
    "    kernel2 = cv2.getStructuringElement(cv2.MORPH_ELLIPSE,(a,b))\n",
    "    kernel3 = cv2.getStructuringElement(cv2.MORPH_CROSS,(a,b))\n",
    "    rect = cv2.morphologyEx(imagen, cv2.MORPH_OPEN, kernel1)\n",
    "    elipse = cv2.morphologyEx(imagen, cv2.MORPH_OPEN, kernel2)\n",
    "    cross = cv2.morphologyEx(imagen, cv2.MORPH_OPEN, kernel3)\n",
    "    return rect, elipse, cross"
   ]
  },
  {
   "cell_type": "code",
   "execution_count": null,
   "id": "4ea3679e-e8fd-4bc8-b172-ae7d92e27162",
   "metadata": {},
   "outputs": [],
   "source": [
    "def cierre(imagen,a,b,n):\n",
    "    # Creación de elementos estructurantes\n",
    "    kernel1 = cv2.getStructuringElement(cv2.MORPH_RECT,(a,b))\n",
    "    kernel2 = cv2.getStructuringElement(cv2.MORPH_ELLIPSE,(a,b))\n",
    "    kernel3 = cv2.getStructuringElement(cv2.MORPH_CROSS,(a,b))\n",
    "    rect = cv2.morphologyEx(imagen, cv2.MORPH_CLOSE, kernel1)\n",
    "    elipse = cv2.morphologyEx(imagen, cv2.MORPH_CLOSE, kernel2)\n",
    "    cross = cv2.morphologyEx(imagen, cv2.MORPH_CLOSE, kernel3)\n",
    "    return rect, elipse, cross"
   ]
  },
  {
   "cell_type": "code",
   "execution_count": null,
   "id": "dc0bc412-8da3-469a-8e25-fd7c021119dd",
   "metadata": {},
   "outputs": [],
   "source": [
    "imagen=ima6\n",
    "ima_umb=umb_adap(imagen,201,-1)\n",
    "[rect, elipse, cross]=dilatacion(ima_umb,5,5,10)\n",
    "plt.figure(1);\n",
    "plt.subplot(4,2,1);plt.imshow(imagen),plt.title('Imagen RGB')\n",
    "plt.subplot(4,2,2);plt.imshow(ima_umb,cmap='Reds', vmin=0, vmax=255),plt.title('Umbralisación')\n",
    "plt.subplot(4,2,3);plt.imshow(rect,cmap='Reds', vmin=0, vmax=255),plt.title('Dilatación rectangulo')\n",
    "plt.subplot(4,2,4);plt.imshow(elipse,cmap='Reds', vmin=0, vmax=255),plt.title('Dilataión elipse')\n",
    "plt.subplot(4,2,5);plt.imshow(cross,cmap='Reds', vmin=0, vmax=255),plt.title('Dilatación cruz')\n",
    "plt.subplots_adjust(top=4, bottom=0.1, left=0.10, right=3, hspace=0.1, wspace=0.2)"
   ]
  },
  {
   "cell_type": "code",
   "execution_count": null,
   "id": "5b6d3e6f-aac2-4baa-ac77-25fba4656861",
   "metadata": {},
   "outputs": [],
   "source": [
    "imagen=ima6\n",
    "ima_umb=umb_adap(imagen,201,-1)\n",
    "[rect, elipse, cross]=erosion(ima_umb,10,10,8)\n",
    "plt.figure(1);\n",
    "plt.subplot(4,2,1);plt.imshow(imagen),plt.title('Imagen RGB')\n",
    "plt.subplot(4,2,2);plt.imshow(ima_umb,cmap='Reds', vmin=0, vmax=255),plt.title('Umbralisación')\n",
    "plt.subplot(4,2,3);plt.imshow(rect,cmap='Reds', vmin=0, vmax=255),plt.title('Erosión rectangulo')\n",
    "plt.subplot(4,2,4);plt.imshow(elipse,cmap='Reds', vmin=0, vmax=255),plt.title('Erosión elipse')\n",
    "plt.subplot(4,2,5);plt.imshow(cross,cmap='Reds', vmin=0, vmax=255),plt.title('Erosión cruz')\n",
    "plt.subplots_adjust(top=4, bottom=0.1, left=0.10, right=3, hspace=0.1, wspace=0.2)"
   ]
  },
  {
   "cell_type": "code",
   "execution_count": null,
   "id": "c753f7be-e351-4299-886e-321cefec7ae3",
   "metadata": {},
   "outputs": [],
   "source": [
    "imagen=ima6\n",
    "ima_umb=umb_adap(imagen,201,-1)\n",
    "[rect, elipse, cross]=apertura(ima_umb,20,20,8)\n",
    "plt.figure(1);\n",
    "plt.subplot(4,2,1);plt.imshow(imagen),plt.title('Imagen RGB')\n",
    "plt.subplot(4,2,2);plt.imshow(ima_umb,cmap='Reds', vmin=0, vmax=255),plt.title('Umbralisación')\n",
    "plt.subplot(4,2,3);plt.imshow(rect,cmap='Reds', vmin=0, vmax=255),plt.title('Apertura rectangulo')\n",
    "plt.subplot(4,2,4);plt.imshow(elipse,cmap='Reds', vmin=0, vmax=255),plt.title('Apertura elipse')\n",
    "plt.subplot(4,2,5);plt.imshow(cross,cmap='Reds', vmin=0, vmax=255),plt.title('Apertura cruz')\n",
    "plt.subplots_adjust(top=4, bottom=0.1, left=0.10, right=3, hspace=0.1, wspace=0.2)"
   ]
  },
  {
   "cell_type": "code",
   "execution_count": null,
   "id": "9fc28e36-b317-42af-89db-7a4309a22ac1",
   "metadata": {},
   "outputs": [],
   "source": [
    "imagen=ima6\n",
    "ima_umb=umb_adap(imagen,201,-1)\n",
    "[rect, elipse, cross]=cierre(ima_umb,30,30,8)\n",
    "plt.figure(1);\n",
    "plt.subplot(4,2,1);plt.imshow(imagen),plt.title('Imagen RGB')\n",
    "plt.subplot(4,2,2);plt.imshow(ima_umb,cmap='Reds', vmin=0, vmax=255),plt.title('Umbralisación')\n",
    "plt.subplot(4,2,3);plt.imshow(rect,cmap='Reds', vmin=0, vmax=255),plt.title('Cierre rectangulo')\n",
    "plt.subplot(4,2,4);plt.imshow(elipse,cmap='Reds', vmin=0, vmax=255),plt.title('Cierre elipse')\n",
    "plt.subplot(4,2,5);plt.imshow(cross,cmap='Reds', vmin=0, vmax=255),plt.title('Cierre cruz')\n",
    "plt.subplots_adjust(top=4, bottom=0.1, left=0.10, right=3, hspace=0.1, wspace=0.2)"
   ]
  },
  {
   "cell_type": "markdown",
   "id": "109d0a22-a3e4-4708-929f-7ddd37b73696",
   "metadata": {},
   "source": []
  },
  {
   "cell_type": "markdown",
   "id": "a1c97827-e136-4158-a09c-a0fb447493ee",
   "metadata": {},
   "source": [
    "## Erosión con Apertura"
   ]
  },
  {
   "cell_type": "code",
   "execution_count": null,
   "id": "b13ca929-4c65-4ee4-88a8-56d58952424e",
   "metadata": {},
   "outputs": [],
   "source": [
    "imagen=ima7\n",
    "ima_umb=umb_adap(imagen,201,-1)\n",
    "[rect, elipse, cross]=erosion(ima_umb,15,15,3)\n",
    "img_erosionada=rect.copy()\n",
    "[rect, elipse, cross]=apertura(img_erosionada,18,18,8)\n",
    "img_apert=rect.copy()\n",
    "[rect, elipse, cross]=dilatacion(img_apert,20,20,10)\n",
    "img_cierre=cross.copy()\n",
    "plt.figure(1);\n",
    "plt.subplot(4,2,1);plt.imshow(imagen),plt.title('Imagen RGB')\n",
    "plt.subplot(4,2,2);plt.imshow(ima_umb,cmap='Reds', vmin=0, vmax=255),plt.title('Umbralisación')\n",
    "plt.subplot(4,2,3);plt.imshow(img_erosionada,cmap='Reds', vmin=0, vmax=255),plt.title('Erosión rectangulo')\n",
    "plt.subplot(4,2,4);plt.imshow(img_apert,cmap='Reds', vmin=0, vmax=255),plt.title('Apertura rectangulo')\n",
    "plt.subplot(4,2,5);plt.imshow(img_cierre,cmap='Reds', vmin=0, vmax=255),plt.title('Cierre rectangulo')\n",
    "plt.subplots_adjust(top=4, bottom=0.1, left=0.10, right=3, hspace=0.1, wspace=0.2)"
   ]
  },
  {
   "cell_type": "markdown",
   "id": "6498edf0-9499-484c-bb95-6174d8f562f4",
   "metadata": {},
   "source": [
    "## Cierre+Erosión+Apertura"
   ]
  },
  {
   "cell_type": "code",
   "execution_count": null,
   "id": "7cf7289f-e4d8-4c23-99ad-57997a545a58",
   "metadata": {},
   "outputs": [],
   "source": [
    "imagen=ima6\n",
    "ima_umb=umb_adap(imagen,201,-1)\n",
    "[rect, elipse, cross]=cierre(ima_umb,15,15,3)\n",
    "img_cierre=rect.copy()\n",
    "[rect, elipse, cross]=erosion(img_cierre,18,18,10)\n",
    "img_erosion=rect.copy()\n",
    "[rect, elipse, cross]=apertura(img_erosion,15,15,10)\n",
    "img_apertura=cross.copy()\n",
    "plt.figure(1);\n",
    "plt.subplot(4,2,1);plt.imshow(imagen),plt.title('Imagen RGB')\n",
    "plt.subplot(4,2,2);plt.imshow(ima_umb,cmap='Reds', vmin=0, vmax=255),plt.title('Umbralisación')\n",
    "plt.subplot(4,2,3);plt.imshow(img_cierre,cmap='Reds', vmin=0, vmax=255),plt.title('Cierre rectangulo')\n",
    "plt.subplot(4,2,4);plt.imshow(img_erosion,cmap='Reds', vmin=0, vmax=255),plt.title('Erosión rectangulo')\n",
    "plt.subplot(4,2,5);plt.imshow(img_apertura,cmap='Reds', vmin=0, vmax=255),plt.title('Apertura rectangulo')\n",
    "plt.subplots_adjust(top=4, bottom=0.1, left=0.10, right=3, hspace=0.1, wspace=0.2)"
   ]
  },
  {
   "cell_type": "code",
   "execution_count": null,
   "id": "9656c48d-bbc4-4324-8ab4-aaa9186abe9f",
   "metadata": {},
   "outputs": [],
   "source": []
  }
 ],
 "metadata": {
  "kernelspec": {
   "display_name": "Python 3 (ipykernel)",
   "language": "python",
   "name": "python3"
  },
  "language_info": {
   "codemirror_mode": {
    "name": "ipython",
    "version": 3
   },
   "file_extension": ".py",
   "mimetype": "text/x-python",
   "name": "python",
   "nbconvert_exporter": "python",
   "pygments_lexer": "ipython3",
   "version": "3.7.0"
  }
 },
 "nbformat": 4,
 "nbformat_minor": 5
}
