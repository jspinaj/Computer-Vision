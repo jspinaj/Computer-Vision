{
 "cells": [
  {
   "cell_type": "code",
   "execution_count": 1,
   "id": "6329224e",
   "metadata": {},
   "outputs": [],
   "source": [
    "#importación de librerías\n",
    "import cv2     #Librería OpenCV\n",
    "from IPython.display import Image   #Libreria impresión de imagenes\n",
    "import numpy as np                  #Importación numpy\n",
    "from matplotlib import pyplot as plt  #Impresión de gráficas"
   ]
  },
  {
   "cell_type": "code",
   "execution_count": 2,
   "id": "70d466bb",
   "metadata": {},
   "outputs": [],
   "source": [
    "#lectura de las imágenes\n",
    "ima1=cv2.imread(\"img/Flechader1.jpg\")\n",
    "ima2=cv2.imread(\"img/Flechader2.jpg\")\n",
    "ima3=cv2.imread(\"img/Flechader3.jpg\")\n",
    "ima4=cv2.imread(\"img/Flechader4.jpg\")\n",
    "ima5=cv2.imread(\"img/Flechader5.jpg\")\n",
    "ima6=cv2.imread(\"img/Flechader6.jpg\")\n",
    "ima7=cv2.imread(\"img/ima1.jpeg\")\n",
    "#conversión de las imágenes de BGR a RGB\n",
    "ima1=cv2.cvtColor(ima1,cv2.COLOR_BGR2RGB)\n",
    "ima2=cv2.cvtColor(ima2,cv2.COLOR_BGR2RGB)\n",
    "ima3=cv2.cvtColor(ima3,cv2.COLOR_BGR2RGB)\n",
    "ima4=cv2.cvtColor(ima4,cv2.COLOR_BGR2RGB)\n",
    "ima5=cv2.cvtColor(ima5,cv2.COLOR_BGR2RGB)\n",
    "ima6=cv2.cvtColor(ima6,cv2.COLOR_BGR2RGB)\n",
    "ima7=cv2.cvtColor(ima7,cv2.COLOR_BGR2RGB)"
   ]
  },
  {
   "cell_type": "code",
   "execution_count": null,
   "id": "66e8cb13",
   "metadata": {},
   "outputs": [],
   "source": []
  }
 ],
 "metadata": {
  "kernelspec": {
   "display_name": "Python 3 (ipykernel)",
   "language": "python",
   "name": "python3"
  },
  "language_info": {
   "codemirror_mode": {
    "name": "ipython",
    "version": 3
   },
   "file_extension": ".py",
   "mimetype": "text/x-python",
   "name": "python",
   "nbconvert_exporter": "python",
   "pygments_lexer": "ipython3",
   "version": "3.7.0"
  }
 },
 "nbformat": 4,
 "nbformat_minor": 5
}
