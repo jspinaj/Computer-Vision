{
 "cells": [
  {
   "cell_type": "code",
   "execution_count": 1,
   "id": "c39e0774-02ac-4902-8129-0058f0ba4740",
   "metadata": {},
   "outputs": [],
   "source": [
    "import extraerROI"
   ]
  },
  {
   "cell_type": "code",
   "execution_count": null,
   "id": "63bb2f25-6398-4b4f-bd3a-bda04476ca8c",
   "metadata": {},
   "outputs": [],
   "source": []
  }
 ],
 "metadata": {
  "kernelspec": {
   "display_name": "Python 3 (ipykernel)",
   "language": "python",
   "name": "python3"
  },
  "language_info": {
   "codemirror_mode": {
    "name": "ipython",
    "version": 3
   },
   "file_extension": ".py",
   "mimetype": "text/x-python",
   "name": "python",
   "nbconvert_exporter": "python",
   "pygments_lexer": "ipython3",
   "version": "3.8.8"
  }
 },
 "nbformat": 4,
 "nbformat_minor": 5
}
