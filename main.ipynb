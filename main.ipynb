{
 "cells": [
  {
   "cell_type": "markdown",
   "metadata": {
    "colab_type": "text",
    "id": "view-in-github"
   },
   "source": [
    "<a href=\"https://colab.research.google.com/github/jspinaj/Computer-Vision/blob/main/Pruebas.ipynb\" target=\"_parent\"><img src=\"https://colab.research.google.com/assets/colab-badge.svg\" alt=\"Open In Colab\"/></a>"
   ]
  },
  {
   "cell_type": "markdown",
   "metadata": {
    "id": "xlM7W35dORIe"
   },
   "source": [
    "# Main Jupyter Notebook\n"
   ]
  },
  {
   "cell_type": "code",
   "execution_count": 45,
   "metadata": {},
   "outputs": [],
   "source": [
    "# Setup \n",
    "\n",
    "import numpy as np\n",
    "import random\n",
    "import pandas as pd\n",
    "\n",
    "import cv2\n",
    "from matplotlib import pyplot as plt\n",
    "\n",
    "\n"
   ]
  },
  {
   "cell_type": "code",
   "execution_count": 47,
   "metadata": {},
   "outputs": [],
   "source": [
    "def segmentation(img_filename):\n",
    "    og_img=cv2.imread(img_filename)     #original image\n",
    "    # extract segment\n",
    "    prop1=random.randrange(0,300, 1)\n",
    "    prop2=random.randint(1,100)\n",
    "    \n",
    "    prop3=random.randrange(-15,100, 1)\n",
    "    properties=  [img_filename, prop1, prop2, prop3] \n",
    "    \n",
    "    return properties\n",
    "             \n",
    "    "
   ]
  },
  {
   "cell_type": "code",
   "execution_count": 52,
   "metadata": {},
   "outputs": [
    {
     "name": "stdout",
     "output_type": "stream",
     "text": [
      "     Unnamed: 0                                      img_filename  prop1  \\\n",
      "0             0   data/traffic_signs/Ceda_el_Paso/Cedapaso1.jpg\\n     52   \n",
      "1             1  data/traffic_signs/Ceda_el_Paso/Cedapaso10.jpg\\n     72   \n",
      "2             2   data/traffic_signs/Ceda_el_Paso/Cedapaso2.jpg\\n     57   \n",
      "3             3   data/traffic_signs/Ceda_el_Paso/Cedapaso3.jpg\\n    290   \n",
      "4             4   data/traffic_signs/Ceda_el_Paso/Cedapaso4.jpg\\n    269   \n",
      "..          ...                                               ...    ...   \n",
      "173         173      data/traffic_signs/Velocidad30/Vel30_9.jpg\\n    262   \n",
      "174         174      data/traffic_signs/Velocidad40/Vel40_1.jpg\\n     98   \n",
      "175         175      data/traffic_signs/Velocidad40/Vel40_2.jpg\\n    201   \n",
      "176         176      data/traffic_signs/Velocidad50/Vel50_1.jpg\\n    141   \n",
      "177         177      data/traffic_signs/Velocidad60/Vel60_1.jpg\\n    252   \n",
      "\n",
      "     prop2  prop3  \n",
      "0       55     86  \n",
      "1       41     35  \n",
      "2       80     42  \n",
      "3       85     95  \n",
      "4        7      8  \n",
      "..     ...    ...  \n",
      "173     98     68  \n",
      "174     17     82  \n",
      "175     86     86  \n",
      "176     49     74  \n",
      "177     10    -11  \n",
      "\n",
      "[178 rows x 5 columns]\n"
     ]
    }
   ],
   "source": [
    "# image ingest\n",
    "\n",
    "image_list = open(\"data/traffic_filename_list.txt\", \"r\")  \n",
    "data=[]\n",
    "properties=[]\n",
    "for img_filename in image_list:\n",
    "    properties=segmentation(img_filename)\n",
    "    \n",
    "    data.append(properties)\n",
    "\n",
    "\n",
    "# images properties dataframe\n",
    "col_names=['img_filename','prop1', 'prop2', 'prop3']\n",
    "df=pd.DataFrame(data, columns = col_names)\n",
    "\n",
    "csv_filename=\"data/properties.csv\"\n",
    "df.to_csv(csv_filename)\n",
    "\n",
    "df2=pd.read_csv(csv_filename)\n",
    "print(df2)"
   ]
  }
 ],
 "metadata": {
  "colab": {
   "authorship_tag": "ABX9TyOCF5Ty0/M9073fE45FBhS/",
   "collapsed_sections": [],
   "include_colab_link": true,
   "name": "Pruebas.ipynb",
   "provenance": []
  },
  "kernelspec": {
   "display_name": "Python 3 (ipykernel)",
   "language": "python",
   "name": "python3"
  },
  "language_info": {
   "codemirror_mode": {
    "name": "ipython",
    "version": 3
   },
   "file_extension": ".py",
   "mimetype": "text/x-python",
   "name": "python",
   "nbconvert_exporter": "python",
   "pygments_lexer": "ipython3",
   "version": "3.8.2"
  }
 },
 "nbformat": 4,
 "nbformat_minor": 4
}
