{
 "cells": [
  {
   "cell_type": "markdown",
   "metadata": {
    "colab_type": "text",
    "id": "view-in-github"
   },
   "source": [
    "<a href=\"https://colab.research.google.com/github/jspinaj/Computer-Vision/blob/main/Pruebas.ipynb\" target=\"_parent\"><img src=\"https://colab.research.google.com/assets/colab-badge.svg\" alt=\"Open In Colab\"/></a>"
   ]
  },
  {
   "cell_type": "markdown",
   "metadata": {
    "id": "xlM7W35dORIe"
   },
   "source": [
    "# Main Jupyter Notebook\n"
   ]
  },
  {
   "cell_type": "code",
   "execution_count": 39,
   "metadata": {},
   "outputs": [
    {
     "name": "stdout",
     "output_type": "stream",
     "text": [
      "C:\\Users\\j2seb\\Documents\\Computer-Vision\n",
      "C:\\Users\\j2seb\\Documents\\Computer-Vision\n"
     ]
    }
   ],
   "source": [
    "# Setup \n",
    "#pip uninstall opencv-python\n",
    "# pip install opencv-contrib-python\n",
    "import imageio\n",
    "import time \n",
    "import numpy as np\n",
    "import random\n",
    "import pandas as pd\n",
    "import os\n",
    "\n",
    "import cv2\n",
    "import matplotlib\n",
    "from matplotlib import pyplot as plt\n",
    "from sklearn.decomposition import PCA\n",
    "\n",
    "import extraerROI as roi\n",
    "\n",
    "print(os.getcwd())\n",
    "os.chdir(os.getcwd()+\"\\Segundo Avance\")\n",
    "\n",
    "import trafficSignDetection as roi2\n",
    "\n",
    "os.chdir(\"..\")\n",
    "print(os.getcwd())\n",
    "\n",
    "keys=['Compacidad', 'Redondez', 'Relacion entre lados', 'Primer Momento', 'Segundo Momento', 'Tercer Momento', 'Cuarto Momento', 'Quinto Momento', 'Sexto Momento', 'Septimo Momento', 'Entropia', 'Porcentaje de Area Rellena', 'Umbral usado']\n",
    "\n",
    "\n",
    "#keys=['Compacidad', 'Redondez', 'Relacion entre lados', 'Primer Momento', 'Segundo Momento', 'Entropia', 'Porcentaje de Area Rellena', 'Umbral usado']\n"
   ]
  },
  {
   "cell_type": "code",
   "execution_count": 40,
   "metadata": {},
   "outputs": [
    {
     "ename": "error",
     "evalue": "OpenCV(4.0.1) C:\\ci\\opencv-suite_1573470242804\\work\\modules\\imgproc\\src\\color.cpp:181: error: (-215:Assertion failed) !_src.empty() in function 'cv::cvtColor'\n",
     "output_type": "error",
     "traceback": [
      "\u001b[1;31m---------------------------------------------------------------------------\u001b[0m",
      "\u001b[1;31merror\u001b[0m                                     Traceback (most recent call last)",
      "\u001b[1;32m~\\AppData\\Local\\Temp/ipykernel_19016/426527253.py\u001b[0m in \u001b[0;36m<module>\u001b[1;34m\u001b[0m\n\u001b[0;32m      5\u001b[0m \u001b[0mt\u001b[0m \u001b[1;33m=\u001b[0m \u001b[0mtime\u001b[0m\u001b[1;33m.\u001b[0m\u001b[0mtime\u001b[0m\u001b[1;33m(\u001b[0m\u001b[1;33m)\u001b[0m\u001b[1;33m\u001b[0m\u001b[1;33m\u001b[0m\u001b[0m\n\u001b[0;32m      6\u001b[0m \u001b[1;33m\u001b[0m\u001b[0m\n\u001b[1;32m----> 7\u001b[1;33m \u001b[0mdiccionario\u001b[0m\u001b[1;33m,\u001b[0m\u001b[0mregion\u001b[0m\u001b[1;33m,\u001b[0m\u001b[0mimagenROI\u001b[0m\u001b[1;33m=\u001b[0m \u001b[0mroi2\u001b[0m\u001b[1;33m.\u001b[0m\u001b[0mdetectROI\u001b[0m\u001b[1;33m(\u001b[0m\u001b[0mimg_filename\u001b[0m\u001b[1;33m)\u001b[0m\u001b[1;33m\u001b[0m\u001b[1;33m\u001b[0m\u001b[0m\n\u001b[0m\u001b[0;32m      8\u001b[0m \u001b[0mfeatures\u001b[0m\u001b[1;33m=\u001b[0m\u001b[1;33m[\u001b[0m\u001b[1;33m]\u001b[0m\u001b[1;33m\u001b[0m\u001b[1;33m\u001b[0m\u001b[0m\n\u001b[0;32m      9\u001b[0m \u001b[1;33m\u001b[0m\u001b[0m\n",
      "\u001b[1;32m~\\Documents\\Computer-Vision\\Segundo Avance\\trafficSignDetection.py\u001b[0m in \u001b[0;36mdetectROI\u001b[1;34m(path)\u001b[0m\n\u001b[0;32m     18\u001b[0m     \u001b[1;31m#Read the Image\u001b[0m\u001b[1;33m\u001b[0m\u001b[1;33m\u001b[0m\u001b[1;33m\u001b[0m\u001b[0m\n\u001b[0;32m     19\u001b[0m     \u001b[0mimage\u001b[0m\u001b[1;33m=\u001b[0m\u001b[0mcv2\u001b[0m\u001b[1;33m.\u001b[0m\u001b[0mimread\u001b[0m\u001b[1;33m(\u001b[0m\u001b[0mpath\u001b[0m\u001b[1;33m)\u001b[0m\u001b[1;33m\u001b[0m\u001b[1;33m\u001b[0m\u001b[0m\n\u001b[1;32m---> 20\u001b[1;33m     \u001b[0mimage\u001b[0m\u001b[1;33m=\u001b[0m\u001b[0mcv2\u001b[0m\u001b[1;33m.\u001b[0m\u001b[0mcvtColor\u001b[0m\u001b[1;33m(\u001b[0m\u001b[0mimage\u001b[0m\u001b[1;33m,\u001b[0m\u001b[0mcv2\u001b[0m\u001b[1;33m.\u001b[0m\u001b[0mCOLOR_BGR2RGB\u001b[0m\u001b[1;33m)\u001b[0m\u001b[1;33m\u001b[0m\u001b[1;33m\u001b[0m\u001b[0m\n\u001b[0m\u001b[0;32m     21\u001b[0m \u001b[1;33m\u001b[0m\u001b[0m\n\u001b[0;32m     22\u001b[0m     \u001b[1;31m## Detect ROI on Cr Channel##\u001b[0m\u001b[1;33m\u001b[0m\u001b[1;33m\u001b[0m\u001b[1;33m\u001b[0m\u001b[0m\n",
      "\u001b[1;31merror\u001b[0m: OpenCV(4.0.1) C:\\ci\\opencv-suite_1573470242804\\work\\modules\\imgproc\\src\\color.cpp:181: error: (-215:Assertion failed) !_src.empty() in function 'cv::cvtColor'\n"
     ]
    }
   ],
   "source": [
    "img_filename=\"data/traffic_signs/Flecha_Derecha/Flechader4.jpg\"\n",
    "\n",
    "#imagenROI,ima_umbralizada,var,ima_prueba= roi.extraccion_ROI(img_filename,\"v\")\n",
    "\n",
    "t = time.time()\n",
    "\n",
    "diccionario,region,imagenROI= roi2.detectROI(img_filename)\n",
    "features=[]\n",
    "\n",
    "for dic in diccionario:\n",
    "    \n",
    "    keys=['Compacidad', 'Redondez', 'Relacion entre lados', 'Primer Momento', 'Segundo Momento', 'Tercer Momento', 'Cuarto Momento', 'Quinto Momento', 'Sexto Momento', 'Septimo Momento', 'Entropia', 'Porcentaje de Area Rellena', 'Umbral usado']\n",
    "    _,prop=roi2.dict2list(dic,keys)\n",
    "    features.append(prop)\n",
    "\n",
    "\n",
    "print(features)\n",
    "\n",
    "\n",
    "filename = \"data/my_gif.GIF\"\n",
    "#imageio.mimsave(filename, ima_prueba,fps=2)\n",
    "#img_plot(img_og,img_processed,img_BW,filename_out)\n",
    "\n",
    "#for k in range(len(ima_umbralizada)):\n",
    "#    print(ima_umbralizada[k])\n",
    "\n",
    "#print(ima_umbralizada)\n",
    "\n",
    "\n",
    "\n",
    "#print(ima_umbralizada.size()) \n",
    "plt.imshow(imagenROI)\n"
   ]
  },
  {
   "cell_type": "code",
   "execution_count": 41,
   "metadata": {},
   "outputs": [
    {
     "name": "stdout",
     "output_type": "stream",
     "text": [
      "data/traffic_signs/Ceda_el_Paso/Cedapaso1.jpg\n"
     ]
    },
    {
     "ename": "error",
     "evalue": "OpenCV(4.0.1) C:\\ci\\opencv-suite_1573470242804\\work\\modules\\imgproc\\src\\color.cpp:181: error: (-215:Assertion failed) !_src.empty() in function 'cv::cvtColor'\n",
     "output_type": "error",
     "traceback": [
      "\u001b[1;31m---------------------------------------------------------------------------\u001b[0m",
      "\u001b[1;31merror\u001b[0m                                     Traceback (most recent call last)",
      "\u001b[1;32m~\\AppData\\Local\\Temp/ipykernel_19016/4195054851.py\u001b[0m in \u001b[0;36m<module>\u001b[1;34m\u001b[0m\n\u001b[0;32m     15\u001b[0m         \u001b[1;31m#    img_filename, img_category)\u001b[0m\u001b[1;33m\u001b[0m\u001b[1;33m\u001b[0m\u001b[1;33m\u001b[0m\u001b[0m\n\u001b[0;32m     16\u001b[0m         \u001b[0mprint\u001b[0m\u001b[1;33m(\u001b[0m\u001b[0mimg_filename\u001b[0m\u001b[1;33m)\u001b[0m\u001b[1;33m\u001b[0m\u001b[1;33m\u001b[0m\u001b[0m\n\u001b[1;32m---> 17\u001b[1;33m         \u001b[0mdiccionario\u001b[0m\u001b[1;33m,\u001b[0m\u001b[0mregion\u001b[0m\u001b[1;33m,\u001b[0m\u001b[0mimagenROI\u001b[0m\u001b[1;33m=\u001b[0m \u001b[0mroi2\u001b[0m\u001b[1;33m.\u001b[0m\u001b[0mdetectROI\u001b[0m\u001b[1;33m(\u001b[0m\u001b[0mimg_filename\u001b[0m\u001b[1;33m)\u001b[0m\u001b[1;33m\u001b[0m\u001b[1;33m\u001b[0m\u001b[0m\n\u001b[0m\u001b[0;32m     18\u001b[0m         \u001b[0mfeatures\u001b[0m\u001b[1;33m=\u001b[0m\u001b[1;33m[\u001b[0m\u001b[1;33m]\u001b[0m\u001b[1;33m\u001b[0m\u001b[1;33m\u001b[0m\u001b[0m\n\u001b[0;32m     19\u001b[0m         \u001b[0mi\u001b[0m\u001b[1;33m=\u001b[0m\u001b[1;36m0\u001b[0m\u001b[1;33m\u001b[0m\u001b[1;33m\u001b[0m\u001b[0m\n",
      "\u001b[1;32m~\\Documents\\Computer-Vision\\Segundo Avance\\trafficSignDetection.py\u001b[0m in \u001b[0;36mdetectROI\u001b[1;34m(path)\u001b[0m\n\u001b[0;32m     18\u001b[0m     \u001b[1;31m#Read the Image\u001b[0m\u001b[1;33m\u001b[0m\u001b[1;33m\u001b[0m\u001b[1;33m\u001b[0m\u001b[0m\n\u001b[0;32m     19\u001b[0m     \u001b[0mimage\u001b[0m\u001b[1;33m=\u001b[0m\u001b[0mcv2\u001b[0m\u001b[1;33m.\u001b[0m\u001b[0mimread\u001b[0m\u001b[1;33m(\u001b[0m\u001b[0mpath\u001b[0m\u001b[1;33m)\u001b[0m\u001b[1;33m\u001b[0m\u001b[1;33m\u001b[0m\u001b[0m\n\u001b[1;32m---> 20\u001b[1;33m     \u001b[0mimage\u001b[0m\u001b[1;33m=\u001b[0m\u001b[0mcv2\u001b[0m\u001b[1;33m.\u001b[0m\u001b[0mcvtColor\u001b[0m\u001b[1;33m(\u001b[0m\u001b[0mimage\u001b[0m\u001b[1;33m,\u001b[0m\u001b[0mcv2\u001b[0m\u001b[1;33m.\u001b[0m\u001b[0mCOLOR_BGR2RGB\u001b[0m\u001b[1;33m)\u001b[0m\u001b[1;33m\u001b[0m\u001b[1;33m\u001b[0m\u001b[0m\n\u001b[0m\u001b[0;32m     21\u001b[0m \u001b[1;33m\u001b[0m\u001b[0m\n\u001b[0;32m     22\u001b[0m     \u001b[1;31m## Detect ROI on Cr Channel##\u001b[0m\u001b[1;33m\u001b[0m\u001b[1;33m\u001b[0m\u001b[1;33m\u001b[0m\u001b[0m\n",
      "\u001b[1;31merror\u001b[0m: OpenCV(4.0.1) C:\\ci\\opencv-suite_1573470242804\\work\\modules\\imgproc\\src\\color.cpp:181: error: (-215:Assertion failed) !_src.empty() in function 'cv::cvtColor'\n"
     ]
    }
   ],
   "source": [
    "# image ingest\n",
    "\n",
    "image_list = open(\"data/traffic_filename_list.txt\", \"r\")\n",
    "data = []\n",
    "properties = []\n",
    "random.seed(10)\n",
    "\n",
    "for img_filename in image_list:\n",
    "\n",
    "    img_filename = img_filename.replace(\"\\n\", \"\")\n",
    "    words = img_filename.split(\"/\")\n",
    "    img_category = words[2]\n",
    "    if  True: #    \n",
    "        #imagenROI, ima_umbralizada, properties, ima_prueba = roi.extraccion_ROI(\n",
    "        #    img_filename, img_category)\n",
    "        print(img_filename)\n",
    "        diccionario,region,imagenROI= roi2.detectROI(img_filename)\n",
    "        features=[]\n",
    "        i=0\n",
    "        for dic in diccionario:\n",
    "            \n",
    "            _,properties=roi2.dict2list(dic,keys)\n",
    "            features.append([img_filename,img_category]+properties+[i])\n",
    "            i+=1\n",
    "        # plt.imshow(imagenROI)\n",
    "\n",
    "        #filename_out=\"data/output/\"+words[3]\n",
    "        filename_out = \"G:/Unidades compartidas/TIA 2021-II/Imagenes/output/\" + \\\n",
    "            words[3]\n",
    "        cv2.imwrite(filename_out,cv2.cvtColor(imagenROI,cv2.COLOR_RGB2BGR))\n",
    "\n",
    "        #for k in range(len(ima_umbralizada)):\n",
    "        #    filename_segment = \"G:/Unidades compartidas/TIA 2021-II/Imagenes/output/segments/\" + \\\n",
    "        #        img_category+\"_\"+str(k)+\"_\"+words[3]\n",
    "        #    cv2.imwrite(filename_segment, cv2.cvtColor(\n",
    "        #        ima_umbralizada[k], cv2.COLOR_RGB2BGR))\n",
    "        #    print(filename_segment)\n",
    "\n",
    "        data+=features\n",
    "\n",
    "\n",
    "# images properties dataframe\n",
    "col_features = keys\n",
    "col_names = ['img_filename', 'category']+keys  +[\"iindex\"]      \n",
    "\n",
    "df = pd.DataFrame(data, columns=col_names)\n",
    "\n",
    "#clean data\n",
    "df.replace(\"\", \"Nan\", inplace=True)\n",
    "df.dropna( inplace=True)\n",
    "\n",
    "csv_filename = \"data/properties.csv\"\n",
    "df.to_csv(csv_filename)             # guardar datos a archivo csv\n",
    "\n",
    "\n",
    "# print(df2)\n"
   ]
  },
  {
   "cell_type": "code",
   "execution_count": 76,
   "metadata": {},
   "outputs": [
    {
     "name": "stdout",
     "output_type": "stream",
     "text": [
      "category\n",
      "Ceda_el_Paso                 56\n",
      "No_pase                       5\n",
      "Pare                         21\n",
      "Prohibido_Parquear           25\n",
      "Prohibido_U                   5\n",
      "Prohibido_giro_derecha        6\n",
      "Prohibido_giro_izquierda     21\n",
      "Rotonda                       1\n",
      "Velocidad30                  31\n",
      "Velocidad40                  21\n",
      "Velocidad50                  11\n",
      "Velocidad60                   6\n",
      "ruido                       253\n",
      "dtype: int64\n",
      "[[ 2.16448403e-05 -1.76134707e-01  9.49074943e-01 -2.46917691e-01\n",
      "  -6.50231130e-02 -3.24835219e-02 -4.44693202e-02  7.71737625e-04\n",
      "   2.83279501e-04  4.36422476e-04 -1.48919946e-03  1.06563161e-03\n",
      "   2.15709643e-04]\n",
      " [ 6.04113724e-06  2.00872474e-02 -2.56307400e-01 -9.58596944e-01\n",
      "  -7.78711908e-02 -4.63023799e-02 -7.87915481e-02  1.27233947e-04\n",
      "   1.08212064e-03  2.97582344e-04 -2.29899306e-02 -6.83505212e-03\n",
      "  -1.56429441e-03]\n",
      " [ 1.19331476e-04 -9.78362837e-01 -1.75159508e-01  3.02646553e-02\n",
      "  -1.18284656e-03 -4.82854397e-02  8.92496456e-03 -1.03804750e-03\n",
      "  -6.15304670e-04 -2.09435397e-05 -9.37720689e-02  1.34225110e-03\n",
      "   5.87965188e-04]\n",
      " [-1.75670324e-05 -8.73187403e-02 -2.11948660e-02 -1.84388327e-02\n",
      "  -1.54886317e-02 -8.17705525e-02  4.51314829e-02 -7.84296538e-04\n",
      "   6.51203506e-03  1.32874753e-04  9.91250857e-01  1.28800247e-03\n",
      "  -3.06172416e-04]\n",
      " [-2.81112189e-06 -2.67397785e-02  4.86098132e-02 -1.35071241e-01\n",
      "   7.80281261e-01  3.31463064e-01  5.09346526e-01 -1.04831541e-02\n",
      "  -1.25807206e-02 -3.80846912e-03  1.25999736e-02 -8.15450677e-03\n",
      "  -5.42274644e-03]]\n",
      "explained_varianc_ratio [0.53957529 0.375663   0.0612512  0.01356146 0.00460248]\n"
     ]
    }
   ],
   "source": [
    "# Properties Analysis\n",
    "col_features = keys\n",
    "\n",
    "csv_filename=\"data/properties - copia.csv\"\n",
    "df=pd.read_csv(csv_filename)      # leer archivo csv para probar\n",
    "category=pd.read_csv(\"data/category.csv\")\n",
    "#print(category)  \n",
    "#print(df)\n",
    "\n",
    "df['category']=category['category']\n",
    "print(df.groupby(['category']).size())\n",
    "\n",
    "#df = df[df['category'] != \"ruido\"]      # eliminar ruidos\n",
    "\n",
    "char=[\"Ceda_el_Paso\",\"Pare\",\"Prohibido_Parquear\",\"Prohibido_giro_izquierda\",\"Velocidad30\",\"Velocidad40\",\"Velocidad60\",\"ruido\"]\n",
    "\n",
    "isSelected=df[\"category\"]==char[0]\n",
    "\n",
    "for c in char:\n",
    "    isSelected=isSelected | (df[\"category\"]==c)\n",
    "\n",
    "df = df[isSelected]\n",
    "\n",
    "features=df[col_features]          # separando las propiedades del dataframe\n",
    "corr_coef = features.corr()                     # coeficiente estadistico\n",
    "\n",
    "mu=features.mean()                              # media de cada propiedad\n",
    "sigma=features.var()                            # vector de varianzas  \n",
    "\n",
    "#print(corr_coef)\n",
    "\n",
    "# Normalization \n",
    "features=(features-mu)/sigma\n",
    "\n",
    "# Perform PCA analysis\n",
    "# dos formas de hacer PCA\n",
    "#LAD\n",
    "pca = PCA(n_components=5)       # 1. definiendo cantidad de componentes\n",
    "#pca=PCA(0.8)                                    # 2. por grado semejanza\n",
    "pca.fit(features)                               # aplicación \n",
    "print(pca.components_)\n",
    "print(\"explained_varianc_ratio \" + str(pca.explained_variance_ratio_))\n",
    "\n",
    "reduced_features=pca.transform(features)     \n",
    "\n",
    "df['pca1']=reduced_features[:,0]\n",
    "\n",
    "df['pca2']=reduced_features[:,1]\n",
    "#print(reduced_features[:,1])\n",
    "#print(reduced_features)"
   ]
  },
  {
   "cell_type": "code",
   "execution_count": 77,
   "metadata": {},
   "outputs": [
    {
     "name": "stdout",
     "output_type": "stream",
     "text": [
      "8\n"
     ]
    },
    {
     "data": {
      "text/plain": [
       "<matplotlib.legend.Legend at 0x216eafdeb50>"
      ]
     },
     "execution_count": 77,
     "metadata": {},
     "output_type": "execute_result"
    },
    {
     "data": {
      "image/png": "[encoded data removed]",
      "text/plain": [
       "<Figure size 432x432 with 1 Axes>"
      ]
     },
     "metadata": {
      "needs_background": "light"
     },
     "output_type": "display_data"
    }
   ],
   "source": [
    "# Plot\n",
    "categories = []\n",
    "\n",
    "fig, ax = plt.subplots(figsize=(6, 6))\n",
    "# \"tab10\" \"tab20\" \"Pastel2\" \"Dark2\" \"Set3\"\n",
    "style = \"tab20\"\n",
    "cmap = matplotlib.cm.get_cmap(style)\n",
    "marker = ['o', 'v', '^', '<', '>', '8', 's',\n",
    "          'p', '*', 'h', 'H', 'D', 'd', 'P', 'X']\n",
    "t = 0\n",
    "for ct, dfC in df.groupby('category'):\n",
    "    scatter = plt.scatter(dfC.pca1, dfC.pca2, color=cmap(t), marker=marker[t])\n",
    "    categories.append(ct)\n",
    "    t = t+1\n",
    "\n",
    "plt.xlabel('PCA 1')\n",
    "plt.ylabel('PCA 2')\n",
    "plt.title('Principal Component Analisys')\n",
    "print(len(categories))\n",
    "ax.legend(categories, loc='center left', bbox_to_anchor=(\n",
    "    1, 0.5), title='traffic sig type')\n",
    "\n",
    "\n",
    "# plt.show()\n"
   ]
  },
  {
   "cell_type": "code",
   "execution_count": 78,
   "metadata": {},
   "outputs": [
    {
     "name": "stdout",
     "output_type": "stream",
     "text": [
      "[1 0 0 0 1 0 1 1 0 0 0 0 1 1 1 0 0 1 1 0 0 1 1 1 0 0 0 0 1 0 1 1 1 1 0 0 0\n",
      " 0 0 0 0 1 0 1 0 1 1 0 0 1 0 1 0 0 0 1 0 1 0 1 0 0 0 0 1 1 0 1 0 0 0 1 1 1\n",
      " 0 1 1 1 0 0 0 1 0 0 1 0 1 1 1 0 0 1 0 1 0 0 1 1 0 1 0 1 1 0 1 1 0 1 0 0 0\n",
      " 1 0 0 0 0 1 1 1 0 1 1 0 1 1 1 0 1 1 0 1 1 1 1 0 1 1 1 1 1 1 0 1 0 1 0 0 0\n",
      " 0 0 0 0 1 0 0 1 0 1 1 1 1 0 1 1 1 0 0 0 0 1 0 1 1 0 0 1 0 1 1 0 1 1 1 0 0\n",
      " 0 0 1 0 0 0 0 1 0 1 1 1 1 0 0 0 1 0 0 0 0 0 1 1 0 1 1 0 1 1 1 0 0 0 1 0 0\n",
      " 0 0 1 1 0 1 0 0 0 1 0 0 1 0 1 1 1 0 0 0 0 0 0 1 1 0 0 0 1 0 1 1 1 0 0 0 0\n",
      " 1 0 1 0 0 1 1 1 0 0 1 1 1 1 0 0 0 0 1 0 1 1 1 0 1 0 1 0 0 0 0 0 1 0 1 0 0\n",
      " 1 1 1 0 0 1 0 1 1 0 0 0 1 0 1 1 0 0 0 1 0 1 0 0 1 1 0 0 0 0 0 0 1 1 1 0 0\n",
      " 0 1 0 1 0 1 0 0 0 0 1 0 1 1 1 1 0 1 1 1 1 0 0 0 1 1 0 0 1 1 1 0 0 0 0 0 0\n",
      " 1 1 1 1 0 0 0 0 0 0 0 1 1 0 0 0 0 1 1 0 0 1 1 1 1 0 0 1 0 1 1 1 0 0 0 1 0\n",
      " 0 0 1 1 0 0 0 1 1 1 0 1 1 1 0 1 1 0 0 0 0 0 1 0 1 0 0]\n",
      "[7. 7. 0. 7. 0. 7. 0. 7. 7. 7. 0. 7. 0. 0. 7. 7. 7. 7. 0. 7. 7. 0. 7. 7.\n",
      " 7. 7. 0. 7. 0. 0. 7. 7. 7. 7. 7. 7. 7. 7. 7. 7. 7. 7. 7. 7. 0. 0. 7. 7.\n",
      " 7. 7. 7. 0. 0. 0. 0. 7. 7. 0. 7. 0. 7. 7. 0. 7. 0. 0. 0. 0. 0. 7. 7. 7.\n",
      " 7. 7. 7. 7. 7. 7. 7. 7. 7. 7. 7. 7. 7. 7. 7. 7. 7. 7. 7. 7. 7. 7. 7. 7.\n",
      " 7. 7. 7. 7. 7. 1. 1. 7. 1. 1. 7. 1. 7. 1. 7. 1. 1. 7. 7. 1. 1. 7. 7. 1.\n",
      " 7. 1. 7. 7. 7. 3. 7. 7. 7. 7. 7. 7. 3. 7. 7. 7. 3. 7. 7. 7. 7. 3. 3. 3.\n",
      " 7. 3. 7. 3. 7. 3. 7. 7. 7. 7. 3. 7. 7. 2. 2. 7. 7. 7. 2. 2. 2. 2. 2. 2.\n",
      " 2. 7. 2. 2. 7. 2. 2. 2. 7. 7. 2. 7. 7. 7. 4. 7. 4. 7. 4. 4. 7. 7. 7. 7.\n",
      " 7. 4. 7. 4. 4. 4. 4. 4. 7. 4. 4. 4. 4. 4. 4. 7. 4. 7. 4. 4. 5. 5. 7. 5.\n",
      " 7. 7. 5. 5. 5. 7. 5. 5. 5. 5. 7. 7. 7. 7. 7. 6. 6. 6. 6.]\n"
     ]
    }
   ],
   "source": [
    "idx= np.random.randint(0,2,features.shape[0])\n",
    "\n",
    "trainData=features[idx==0].astype(np.float32)\n",
    "newcomer=features[idx!=0].astype(np.float32)\n",
    "responses=pd.Categorical(df.category).codes\n",
    "responses=responses[idx==0].astype(np.float32)\n",
    "\n",
    "print(idx)\n",
    "print(responses)\n"
   ]
  },
  {
   "cell_type": "code",
   "execution_count": 92,
   "metadata": {},
   "outputs": [
    {
     "name": "stdout",
     "output_type": "stream",
     "text": [
      "160\n",
      "accuracy: 160  /  224    71.42857142857143  %\n"
     ]
    }
   ],
   "source": [
    "idx= np.random.randint(0,2,features.shape[0])\n",
    "\n",
    "\n",
    "all_responses=pd.Categorical(df.category).codes\n",
    "#all_responses = np.random.randint(0,10,(features.shape[0],1)).astype(np.float32)\n",
    "\n",
    "all_data=features.to_numpy().astype(np.float32)\n",
    "\n",
    "#PCA\n",
    "all_data=reduced_features.astype(np.float32)\n",
    "\n",
    "\n",
    "trainData=all_data[idx==0]\n",
    "#responses=all_responses[idx==0]\n",
    "\n",
    "lista=all_responses[idx==0]\n",
    "\n",
    "responses=[]\n",
    "for element in lista:\n",
    "    responses.append([element])\n",
    "responses=np.array(responses).astype(np.int32)\n",
    "\n",
    "newcomer=all_data[idx!=0]\n",
    "\n",
    "lista=all_responses[idx!=0]\n",
    "check_responses=[]\n",
    "for element in lista: \n",
    "    check_responses.append([element])\n",
    "check_responses=np.array(check_responses).astype(np.float32)\n",
    "\n",
    "#print(type(trainData))\n",
    "#print(type(responses))\n",
    "\n",
    "#print(trainData.shape)\n",
    "#print(responses.shape)\n",
    "\n",
    "knn = cv2.ml.KNearest_create()\n",
    "\n",
    "knn.train(trainData,cv2.ml.ROW_SAMPLE,responses)\n",
    "\n",
    "ret, results, neighbours, dist = knn.findNearest(newcomer, 5)\n",
    "\n",
    "\n",
    "#print (\"results: \", results,\"\\n\")\n",
    "#print (\"neighbours: \", neighbours,\"\\n\")\n",
    "#print (\"distances: \", dist)\n",
    "accuracy=0\n",
    "\n",
    "for i in range(len(results)):\n",
    "    if results[i]==check_responses[i]:\n",
    "        accuracy+=1\n",
    "\n",
    "print(accuracy)\n",
    "print(\"accuracy:\",accuracy,\" / \",len(results),\"  \",100*accuracy/len(results),\" %\")\n",
    "\n",
    "#print( np. concatenate((results, check_responses), axis=1))\n",
    "#print(results[1])\n",
    "#print(check_responses[1])"
   ]
  },
  {
   "cell_type": "code",
   "execution_count": 80,
   "metadata": {},
   "outputs": [
    {
     "name": "stdout",
     "output_type": "stream",
     "text": [
      "[[7], [7], [7], [0], [7], [7], [0], [7], [0], [7], [0], [7], [0], [0], [7], [7], [7], [0], [7], [0], [7], [0], [7], [0], [0], [0], [7], [7], [0], [7], [7], [7], [0], [7], [7], [0], [7], [7], [0], [7], [7], [0], [7], [0], [7], [0], [7], [0], [7], [7], [0], [7], [0], [7], [7], [0], [7], [7], [7], [0], [7], [7], [7], [7], [0], [7], [7], [0], [7], [7], [7], [0], [0], [7], [7], [7], [0], [7], [7], [0], [0], [7], [7], [7], [0], [7], [0], [7], [0], [7], [7], [0], [0], [0], [0], [0], [0], [0], [0], [0], [7], [7], [0], [7], [0], [0], [0], [7], [7], [0], [7], [7], [7], [0], [7], [0], [7], [7], [7], [0], [7], [7], [0], [7], [7], [7], [0], [7], [7], [0], [7], [7], [7], [0], [7], [7], [0], [7], [7], [7], [7], [7], [1], [7], [7], [7], [7], [7], [7], [7], [7], [7], [7], [7], [7], [7], [7], [7], [7], [7], [7], [7], [7], [7], [7], [7], [7], [7], [7], [7], [7], [7], [7], [7], [7], [7], [7], [7], [7], [7], [7], [7], [7], [7], [7], [7], [7], [7], [7], [7], [7], [7], [7], [7], [7], [7], [7], [1], [1], [1], [7], [7], [1], [1], [7], [1], [7], [1], [7], [1], [1], [7], [7], [1], [1], [7], [1], [1], [7], [1], [7], [1], [1], [7], [7], [1], [7], [1], [1], [7], [1], [7], [7], [7], [7], [7], [7], [7], [3], [3], [7], [7], [7], [7], [7], [7], [7], [7], [3], [7], [7], [7], [7], [7], [7], [7], [3], [7], [7], [3], [7], [3], [7], [3], [7], [7], [3], [3], [3], [7], [3], [3], [3], [7], [3], [7], [3], [7], [7], [3], [7], [3], [3], [3], [7], [3], [7], [7], [7], [3], [7], [7], [7], [7], [2], [2], [7], [7], [2], [7], [7], [2], [7], [2], [2], [2], [2], [2], [2], [2], [7], [7], [2], [2], [2], [2], [7], [2], [2], [2], [2], [2], [7], [2], [2], [2], [7], [7], [7], [2], [7], [2], [7], [7], [7], [7], [7], [4], [7], [7], [4], [7], [4], [7], [4], [7], [4], [4], [4], [7], [7], [4], [7], [4], [7], [7], [7], [4], [7], [7], [4], [7], [7], [7], [7], [4], [4], [4], [4], [4], [4], [7], [4], [4], [7], [4], [4], [4], [4], [4], [4], [4], [4], [7], [4], [7], [4], [4], [7], [4], [5], [5], [5], [5], [7], [5], [7], [7], [5], [7], [5], [5], [7], [7], [5], [7], [5], [5], [7], [5], [5], [5], [5], [5], [5], [5], [7], [5], [7], [5], [7], [7], [5], [7], [7], [7], [7], [7], [6], [6], [6], [6], [6], [6]]\n"
     ]
    }
   ],
   "source": [
    "lista=pd.Categorical(df.category).codes\n",
    "all_responses=[]\n",
    "for element in lista:\n",
    "    all_responses.append([element])\n",
    "\n",
    "aleatorio = np.random.randint(0,10,(features.shape[0],1)).astype(np.float32)\n",
    "print(all_responses)\n",
    "\n",
    "#print(aleatorio)\n",
    "#print(responses)\n"
   ]
  },
  {
   "cell_type": "code",
   "execution_count": 66,
   "metadata": {},
   "outputs": [
    {
     "name": "stdout",
     "output_type": "stream",
     "text": [
      "181\n"
     ]
    }
   ],
   "source": [
    "print(features.shape[0])"
   ]
  },
  {
   "cell_type": "code",
   "execution_count": 67,
   "metadata": {},
   "outputs": [
    {
     "name": "stdout",
     "output_type": "stream",
     "text": [
      "<class 'numpy.ndarray'>\n",
      "<class 'numpy.ndarray'>\n"
     ]
    },
    {
     "data": {
      "text/plain": [
       "True"
      ]
     },
     "execution_count": 67,
     "metadata": {},
     "output_type": "execute_result"
    },
    {
     "data": {
      "image/png": "[encoded data removed]",
      "text/plain": [
       "<Figure size 432x288 with 1 Axes>"
      ]
     },
     "metadata": {
      "needs_background": "light"
     },
     "output_type": "display_data"
    }
   ],
   "source": [
    "\n",
    "trainData = np.random.randint(0,500,(51,10)).astype(np.float32)\n",
    "responses = np.random.randint(0,10,(51,1)).astype(np.float32)\n",
    "\n",
    "red = trainData[responses.ravel()==0]\n",
    "plt.scatter(red[:,0],red[:,1],80,'r','^')\n",
    "blue = trainData[responses.ravel()==1]\n",
    "plt.scatter(blue[:,0],blue[:,1],80,'b','s')\n",
    "\n",
    "\n",
    "newcomer = np.random.randint(0,100,(5,10)).astype(np.float32)\n",
    "plt.scatter(newcomer[:,0],newcomer[:,1],80,'g','o')\n",
    "\n",
    "\n",
    "print(type(trainData))\n",
    "print(type(responses))\n",
    "\n",
    "knn = cv2.ml.KNearest_create()\n",
    "knn.train(trainData,cv2.ml.ROW_SAMPLE,responses)\n"
   ]
  },
  {
   "cell_type": "code",
   "execution_count": 29,
   "metadata": {},
   "outputs": [
    {
     "ename": "error",
     "evalue": "OpenCV(4.0.1) C:\\ci\\opencv-suite_1573470242804\\work\\modules\\features2d\\src\\akaze.cpp:172: error: (-215:Assertion failed) ! image.empty() in function 'cv::AKAZE_Impl::detectAndCompute'\n",
     "output_type": "error",
     "traceback": [
      "\u001b[1;31m---------------------------------------------------------------------------\u001b[0m",
      "\u001b[1;31merror\u001b[0m                                     Traceback (most recent call last)",
      "\u001b[1;32m~\\AppData\\Local\\Temp/ipykernel_19016/2814268590.py\u001b[0m in \u001b[0;36m<module>\u001b[1;34m\u001b[0m\n\u001b[0;32m      9\u001b[0m \u001b[1;33m\u001b[0m\u001b[0m\n\u001b[0;32m     10\u001b[0m \u001b[0mkp1\u001b[0m\u001b[1;33m,\u001b[0m \u001b[0mdes1\u001b[0m \u001b[1;33m=\u001b[0m \u001b[0malg\u001b[0m\u001b[1;33m.\u001b[0m\u001b[0mdetectAndCompute\u001b[0m\u001b[1;33m(\u001b[0m\u001b[0mimg_ideal\u001b[0m\u001b[1;33m,\u001b[0m\u001b[1;32mNone\u001b[0m\u001b[1;33m)\u001b[0m\u001b[1;33m\u001b[0m\u001b[1;33m\u001b[0m\u001b[0m\n\u001b[1;32m---> 11\u001b[1;33m \u001b[0mkp2\u001b[0m\u001b[1;33m,\u001b[0m \u001b[0mdes2\u001b[0m \u001b[1;33m=\u001b[0m \u001b[0malg\u001b[0m\u001b[1;33m.\u001b[0m\u001b[0mdetectAndCompute\u001b[0m\u001b[1;33m(\u001b[0m\u001b[0mimg_og\u001b[0m\u001b[1;33m,\u001b[0m\u001b[1;32mNone\u001b[0m\u001b[1;33m)\u001b[0m\u001b[1;33m\u001b[0m\u001b[1;33m\u001b[0m\u001b[0m\n\u001b[0m\u001b[0;32m     12\u001b[0m \u001b[1;33m\u001b[0m\u001b[0m\n\u001b[0;32m     13\u001b[0m \u001b[1;31m# create BFMatcher object\u001b[0m\u001b[1;33m\u001b[0m\u001b[1;33m\u001b[0m\u001b[1;33m\u001b[0m\u001b[0m\n",
      "\u001b[1;31merror\u001b[0m: OpenCV(4.0.1) C:\\ci\\opencv-suite_1573470242804\\work\\modules\\features2d\\src\\akaze.cpp:172: error: (-215:Assertion failed) ! image.empty() in function 'cv::AKAZE_Impl::detectAndCompute'\n"
     ]
    }
   ],
   "source": [
    "\n",
    "img_filename=\"data/Prohibidoparq_ideal.png\"\n",
    "\n",
    "img_ideal=cv2.imread(img_filename) \n",
    "img_og=cv2.imread(\"data/traffic_signs/Prohibido_Parquear/Prohibidoparq13.jpg\")\n",
    "\n",
    "vector_size=15\n",
    "#alg= cv2.SIFT_create()\n",
    "alg = cv2.AKAZE_create()\n",
    "\n",
    "kp1, des1 = alg.detectAndCompute(img_ideal,None)\n",
    "kp2, des2 = alg.detectAndCompute(img_og,None)\n",
    "\n",
    "# create BFMatcher object\n",
    "bf = cv2.BFMatcher(cv2.NORM_HAMMING, crossCheck=True)\n",
    "\n",
    "print(type(des1))\n",
    "\n",
    "print(type(des2))\n",
    "\n",
    "# Match descriptors.\n",
    "matches = bf.match(des1,des2)\n",
    "# Sort them in the order of their distance.\n",
    "matches = sorted(matches, key = lambda x:x.distance)\n",
    "# Draw first 10 matches.\n",
    "print(matches[1])\n",
    "\n",
    "\n",
    "list_x = []\n",
    "list_y = []\n",
    "\n",
    "# For each match...\n",
    "for mat in matches:\n",
    "\n",
    "    # Get the matching keypoints for each of the images\n",
    "    img1_idx = mat.queryIdx\n",
    "    img2_idx = mat.trainIdx\n",
    "\n",
    "    # x - columns\n",
    "    # y - rows\n",
    "    # Get the coordinates\n",
    "    (x1, y1) = kp1[img1_idx].pt\n",
    "    (x2, y2) = kp2[img2_idx].pt\n",
    "\n",
    "    # Append to each list\n",
    "    list_x.append(x2)\n",
    "    list_y.append(y2)\n",
    "\n",
    "\n",
    "\n",
    "img3 = cv2.drawMatches(img_ideal,kp1,img_og,kp2,matches[:10],None,flags=cv2.DrawMatchesFlags_NOT_DRAW_SINGLE_POINTS)\n",
    "#cv2.drawContours(img_og,list_kp2, -1, (0, 255, 0), 3)\n",
    "start_point = (int(min(list_x)),int(min(list_y)))\n",
    "end_point = (int(max(list_x)),int(max(list_y)))\n",
    "color = (255, 0, 0)\n",
    "  \n",
    "# Line thickness of 2 px\n",
    "thickness = 10\n",
    "print(start_point)\n",
    "cv2.rectangle(img_og,start_point, end_point,color,thickness  )\n",
    "for i in range(len(list_x)):\n",
    "    cv2.circle(img_og,(int(list_x[i]),int(list_y[i])),60,color,-1)\n",
    "cv2.imwrite('data/out.jpg',img_og)\n",
    "plt.imshow(img_og),plt.show()\n"
   ]
  },
  {
   "cell_type": "code",
   "execution_count": 30,
   "metadata": {},
   "outputs": [
    {
     "name": "stdout",
     "output_type": "stream",
     "text": [
      "['Ceda_el_Paso', 'Flecha_Derecha', 'Pare', 'Prohibido_Parquear', 'Prohibido_giro_izquierda']\n",
      "     Unnamed: 0                                    img_filename  \\\n",
      "3             3  data/traffic_signs/Ceda_el_Paso/Cedapaso10.jpg   \n",
      "6             6  data/traffic_signs/Ceda_el_Paso/Cedapaso11.jpg   \n",
      "12           12  data/traffic_signs/Ceda_el_Paso/Cedapaso14.jpg   \n",
      "18           18  data/traffic_signs/Ceda_el_Paso/Cedapaso17.jpg   \n",
      "22           22  data/traffic_signs/Ceda_el_Paso/Cedapaso19.jpg   \n",
      "..          ...                                             ...   \n",
      "456         456     data/traffic_signs/Velocidad60/Vel60_11.jpg   \n",
      "457         457     data/traffic_signs/Velocidad60/Vel60_16.jpg   \n",
      "458         458      data/traffic_signs/Velocidad60/Vel60_2.jpg   \n",
      "459         459      data/traffic_signs/Velocidad60/Vel60_4.jpg   \n",
      "461         461      data/traffic_signs/Velocidad60/Vel60_9.jpg   \n",
      "\n",
      "               category   Compacidad  Redondez  Relacion entre lados  \\\n",
      "3          Ceda_el_Paso    15.641448  0.803402              1.074766   \n",
      "6          Ceda_el_Paso    14.927402  0.841832              1.037572   \n",
      "12         Ceda_el_Paso    14.928003  0.841799              1.043353   \n",
      "18         Ceda_el_Paso    14.450566  0.869611              1.298039   \n",
      "22         Ceda_el_Paso  2155.154917  0.005831              1.289157   \n",
      "..                  ...          ...       ...                   ...   \n",
      "456  Prohibido_Parquear    13.749922  0.913923              1.003356   \n",
      "457  Prohibido_Parquear    13.670946  0.919203              1.004016   \n",
      "458  Prohibido_Parquear    13.728226  0.915367              1.020067   \n",
      "459  Prohibido_Parquear    13.895718  0.904334              1.022326   \n",
      "461  Prohibido_Parquear    13.664346  0.919647              1.004902   \n",
      "\n",
      "     Primer Momento  Segundo Momento  Tercer Momento  Cuarto Momento  ...  \\\n",
      "3          3.042233         9.144689        9.388592       13.707040  ...   \n",
      "6          3.038477         9.218492        9.343538       12.728426  ...   \n",
      "12         3.043526        11.785451        9.369870       12.706279  ...   \n",
      "18         3.078142         7.084630       10.915451       11.422322  ...   \n",
      "22         3.065316         7.103493       10.968843       11.142742  ...   \n",
      "..              ...              ...             ...             ...  ...   \n",
      "456        3.036542         8.790582       12.736051       12.851259  ...   \n",
      "457        3.022939         9.190850       11.132436       11.775593  ...   \n",
      "458        3.037589         8.161973       12.093273       12.624495  ...   \n",
      "459        3.048206         8.412603       11.423712       12.023666  ...   \n",
      "461        3.010387         8.562944       12.899872       12.313882  ...   \n",
      "\n",
      "     Entropia  Porcentaje de Area Rellena  Umbral usado     x     y     w  \\\n",
      "3   -5.916883                   37.216822            81  1548  1075   461   \n",
      "6   -6.131576                   40.705274           130  2131   668   360   \n",
      "12  -5.550366                   41.459613           156  2351   656   362   \n",
      "18  -6.145022                   81.050014           192   817  1927   332   \n",
      "22  -7.622978                   44.971052           141  3910  1963   250   \n",
      "..        ...                         ...           ...   ...   ...   ...   \n",
      "456 -6.203764                   44.158288            76  1878  1808   299   \n",
      "457 -6.457878                   43.308217            76  2131  1809   251   \n",
      "458 -6.350959                   45.912637            80  2036  1945   300   \n",
      "459 -6.846505                   50.761577           114  1250  1221  1100   \n",
      "461 -6.435562                   40.272918           102  1515  2068   205   \n",
      "\n",
      "        h  index       pca1       pca2  \n",
      "3     429      2  -2.797739   2.713795  \n",
      "6     347      1  -5.496771   1.403763  \n",
      "12    347      1  -5.264081   1.907144  \n",
      "18    256      0  12.464263  10.590377  \n",
      "22    322      0  14.038649  11.354277  \n",
      "..    ...    ...        ...        ...  \n",
      "456   300      0  -8.068279   0.175217  \n",
      "457   250      0  -7.805456  -0.405239  \n",
      "458   306      0  -6.871706   0.677522  \n",
      "459  1076      0  -6.913653   1.260690  \n",
      "461   206      0  -7.479528  -0.974634  \n",
      "\n",
      "[124 rows x 23 columns]\n"
     ]
    }
   ],
   "source": [
    "\n",
    "\n",
    "print(categories)\n",
    "\n",
    "df_cla = [x for _, x in df.groupby('category')]\n",
    "print(df)\n"
   ]
  },
  {
   "cell_type": "code",
   "execution_count": null,
   "metadata": {},
   "outputs": [],
   "source": []
  },
  {
   "cell_type": "code",
   "execution_count": null,
   "metadata": {},
   "outputs": [],
   "source": []
  }
 ],
 "metadata": {
  "colab": {
   "authorship_tag": "ABX9TyOCF5Ty0/M9073fE45FBhS/",
   "collapsed_sections": [],
   "include_colab_link": true,
   "name": "Pruebas.ipynb",
   "provenance": []
  },
  "kernelspec": {
   "display_name": "Python 3 (ipykernel)",
   "language": "python",
   "name": "python3"
  },
  "language_info": {
   "codemirror_mode": {
    "name": "ipython",
    "version": 3
   },
   "file_extension": ".py",
   "mimetype": "text/x-python",
   "name": "python",
   "nbconvert_exporter": "python",
   "pygments_lexer": "ipython3",
   "version": "3.8.8"
  }
 },
 "nbformat": 4,
 "nbformat_minor": 4
}
