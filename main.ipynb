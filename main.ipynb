{
 "cells": [
  {
   "cell_type": "markdown",
   "metadata": {
    "colab_type": "text",
    "id": "view-in-github"
   },
   "source": [
    "<a href=\"https://colab.research.google.com/github/jspinaj/Computer-Vision/blob/main/Pruebas.ipynb\" target=\"_parent\"><img src=\"https://colab.research.google.com/assets/colab-badge.svg\" alt=\"Open In Colab\"/></a>"
   ]
  },
  {
   "cell_type": "markdown",
   "metadata": {
    "id": "xlM7W35dORIe"
   },
   "source": [
    "# Main Jupyter Notebook\n"
   ]
  },
  {
   "cell_type": "code",
   "execution_count": 102,
   "metadata": {},
   "outputs": [
    {
     "name": "stdout",
     "output_type": "stream",
     "text": [
      "C:\\Users\\j2seb\\Documents\\Computer-Vision\n",
      "C:\\Users\\j2seb\\Documents\\Computer-Vision\n"
     ]
    }
   ],
   "source": [
    "# Setup \n",
    "#pip uninstall opencv-python\n",
    "# pip install opencv-contrib-python\n",
    "import imageio\n",
    "import time \n",
    "import numpy as np\n",
    "import random\n",
    "import pandas as pd\n",
    "import os\n",
    "\n",
    "import cv2\n",
    "import matplotlib\n",
    "from matplotlib import pyplot as plt\n",
    "from sklearn.decomposition import PCA\n",
    "\n",
    "import extraerROI as roi\n",
    "\n",
    "print(os.getcwd())\n",
    "os.chdir(os.getcwd()+\"\\Segundo Avance\")\n",
    "\n",
    "import trafficSignDetection as roi2\n",
    "\n",
    "os.chdir(\"..\")\n",
    "print(os.getcwd())\n",
    "\n",
    "keys=['Compacidad', 'Redondez', 'Relacion entre lados', 'Primer Momento', 'Segundo Momento', 'Tercer Momento', 'Cuarto Momento', 'Quinto Momento', 'Sexto Momento', 'Septimo Momento', 'Entropia', 'Porcentaje de Area Rellena', 'Umbral usado']\n",
    "\n",
    "\n",
    "#keys=['Compacidad', 'Redondez', 'Relacion entre lados', 'Primer Momento', 'Segundo Momento', 'Entropia', 'Porcentaje de Area Rellena', 'Umbral usado']\n"
   ]
  },
  {
   "cell_type": "code",
   "execution_count": 103,
   "metadata": {},
   "outputs": [
    {
     "ename": "error",
     "evalue": "OpenCV(4.0.1) C:\\ci\\opencv-suite_1573470242804\\work\\modules\\imgproc\\src\\color.cpp:181: error: (-215:Assertion failed) !_src.empty() in function 'cv::cvtColor'\n",
     "output_type": "error",
     "traceback": [
      "\u001b[1;31m---------------------------------------------------------------------------\u001b[0m",
      "\u001b[1;31merror\u001b[0m                                     Traceback (most recent call last)",
      "\u001b[1;32m~\\AppData\\Local\\Temp/ipykernel_19016/426527253.py\u001b[0m in \u001b[0;36m<module>\u001b[1;34m\u001b[0m\n\u001b[0;32m      5\u001b[0m \u001b[0mt\u001b[0m \u001b[1;33m=\u001b[0m \u001b[0mtime\u001b[0m\u001b[1;33m.\u001b[0m\u001b[0mtime\u001b[0m\u001b[1;33m(\u001b[0m\u001b[1;33m)\u001b[0m\u001b[1;33m\u001b[0m\u001b[1;33m\u001b[0m\u001b[0m\n\u001b[0;32m      6\u001b[0m \u001b[1;33m\u001b[0m\u001b[0m\n\u001b[1;32m----> 7\u001b[1;33m \u001b[0mdiccionario\u001b[0m\u001b[1;33m,\u001b[0m\u001b[0mregion\u001b[0m\u001b[1;33m,\u001b[0m\u001b[0mimagenROI\u001b[0m\u001b[1;33m=\u001b[0m \u001b[0mroi2\u001b[0m\u001b[1;33m.\u001b[0m\u001b[0mdetectROI\u001b[0m\u001b[1;33m(\u001b[0m\u001b[0mimg_filename\u001b[0m\u001b[1;33m)\u001b[0m\u001b[1;33m\u001b[0m\u001b[1;33m\u001b[0m\u001b[0m\n\u001b[0m\u001b[0;32m      8\u001b[0m \u001b[0mfeatures\u001b[0m\u001b[1;33m=\u001b[0m\u001b[1;33m[\u001b[0m\u001b[1;33m]\u001b[0m\u001b[1;33m\u001b[0m\u001b[1;33m\u001b[0m\u001b[0m\n\u001b[0;32m      9\u001b[0m \u001b[1;33m\u001b[0m\u001b[0m\n",
      "\u001b[1;32m~\\Documents\\Computer-Vision\\Segundo Avance\\trafficSignDetection.py\u001b[0m in \u001b[0;36mdetectROI\u001b[1;34m(path)\u001b[0m\n\u001b[0;32m     18\u001b[0m     \u001b[1;31m#Read the Image\u001b[0m\u001b[1;33m\u001b[0m\u001b[1;33m\u001b[0m\u001b[1;33m\u001b[0m\u001b[0m\n\u001b[0;32m     19\u001b[0m     \u001b[0mimage\u001b[0m\u001b[1;33m=\u001b[0m\u001b[0mcv2\u001b[0m\u001b[1;33m.\u001b[0m\u001b[0mimread\u001b[0m\u001b[1;33m(\u001b[0m\u001b[0mpath\u001b[0m\u001b[1;33m)\u001b[0m\u001b[1;33m\u001b[0m\u001b[1;33m\u001b[0m\u001b[0m\n\u001b[1;32m---> 20\u001b[1;33m     \u001b[0mimage\u001b[0m\u001b[1;33m=\u001b[0m\u001b[0mcv2\u001b[0m\u001b[1;33m.\u001b[0m\u001b[0mcvtColor\u001b[0m\u001b[1;33m(\u001b[0m\u001b[0mimage\u001b[0m\u001b[1;33m,\u001b[0m\u001b[0mcv2\u001b[0m\u001b[1;33m.\u001b[0m\u001b[0mCOLOR_BGR2RGB\u001b[0m\u001b[1;33m)\u001b[0m\u001b[1;33m\u001b[0m\u001b[1;33m\u001b[0m\u001b[0m\n\u001b[0m\u001b[0;32m     21\u001b[0m \u001b[1;33m\u001b[0m\u001b[0m\n\u001b[0;32m     22\u001b[0m     \u001b[1;31m## Detect ROI on Cr Channel##\u001b[0m\u001b[1;33m\u001b[0m\u001b[1;33m\u001b[0m\u001b[1;33m\u001b[0m\u001b[0m\n",
      "\u001b[1;31merror\u001b[0m: OpenCV(4.0.1) C:\\ci\\opencv-suite_1573470242804\\work\\modules\\imgproc\\src\\color.cpp:181: error: (-215:Assertion failed) !_src.empty() in function 'cv::cvtColor'\n"
     ]
    }
   ],
   "source": [
    "img_filename=\"data/traffic_signs/Flecha_Derecha/Flechader4.jpg\"\n",
    "\n",
    "#imagenROI,ima_umbralizada,var,ima_prueba= roi.extraccion_ROI(img_filename,\"v\")\n",
    "\n",
    "t = time.time()\n",
    "\n",
    "diccionario,region,imagenROI= roi2.detectROI(img_filename)\n",
    "features=[]\n",
    "\n",
    "for dic in diccionario:\n",
    "    \n",
    "    keys=['Compacidad', 'Redondez', 'Relacion entre lados', 'Primer Momento', 'Segundo Momento', 'Tercer Momento', 'Cuarto Momento', 'Quinto Momento', 'Sexto Momento', 'Septimo Momento', 'Entropia', 'Porcentaje de Area Rellena', 'Umbral usado']\n",
    "    _,prop=roi2.dict2list(dic,keys)\n",
    "    features.append(prop)\n",
    "\n",
    "\n",
    "print(features)\n",
    "\n",
    "\n",
    "filename = \"data/my_gif.GIF\"\n",
    "#imageio.mimsave(filename, ima_prueba,fps=2)\n",
    "#img_plot(img_og,img_processed,img_BW,filename_out)\n",
    "\n",
    "#for k in range(len(ima_umbralizada)):\n",
    "#    print(ima_umbralizada[k])\n",
    "\n",
    "#print(ima_umbralizada)\n",
    "\n",
    "\n",
    "\n",
    "#print(ima_umbralizada.size()) \n",
    "plt.imshow(imagenROI)\n"
   ]
  },
  {
   "cell_type": "code",
   "execution_count": 104,
   "metadata": {},
   "outputs": [
    {
     "name": "stdout",
     "output_type": "stream",
     "text": [
      "data/traffic_signs/Ceda_el_Paso/Cedapaso1.jpg\n"
     ]
    },
    {
     "ename": "error",
     "evalue": "OpenCV(4.0.1) C:\\ci\\opencv-suite_1573470242804\\work\\modules\\imgproc\\src\\color.cpp:181: error: (-215:Assertion failed) !_src.empty() in function 'cv::cvtColor'\n",
     "output_type": "error",
     "traceback": [
      "\u001b[1;31m---------------------------------------------------------------------------\u001b[0m",
      "\u001b[1;31merror\u001b[0m                                     Traceback (most recent call last)",
      "\u001b[1;32m~\\AppData\\Local\\Temp/ipykernel_19016/4195054851.py\u001b[0m in \u001b[0;36m<module>\u001b[1;34m\u001b[0m\n\u001b[0;32m     15\u001b[0m         \u001b[1;31m#    img_filename, img_category)\u001b[0m\u001b[1;33m\u001b[0m\u001b[1;33m\u001b[0m\u001b[1;33m\u001b[0m\u001b[0m\n\u001b[0;32m     16\u001b[0m         \u001b[0mprint\u001b[0m\u001b[1;33m(\u001b[0m\u001b[0mimg_filename\u001b[0m\u001b[1;33m)\u001b[0m\u001b[1;33m\u001b[0m\u001b[1;33m\u001b[0m\u001b[0m\n\u001b[1;32m---> 17\u001b[1;33m         \u001b[0mdiccionario\u001b[0m\u001b[1;33m,\u001b[0m\u001b[0mregion\u001b[0m\u001b[1;33m,\u001b[0m\u001b[0mimagenROI\u001b[0m\u001b[1;33m=\u001b[0m \u001b[0mroi2\u001b[0m\u001b[1;33m.\u001b[0m\u001b[0mdetectROI\u001b[0m\u001b[1;33m(\u001b[0m\u001b[0mimg_filename\u001b[0m\u001b[1;33m)\u001b[0m\u001b[1;33m\u001b[0m\u001b[1;33m\u001b[0m\u001b[0m\n\u001b[0m\u001b[0;32m     18\u001b[0m         \u001b[0mfeatures\u001b[0m\u001b[1;33m=\u001b[0m\u001b[1;33m[\u001b[0m\u001b[1;33m]\u001b[0m\u001b[1;33m\u001b[0m\u001b[1;33m\u001b[0m\u001b[0m\n\u001b[0;32m     19\u001b[0m         \u001b[0mi\u001b[0m\u001b[1;33m=\u001b[0m\u001b[1;36m0\u001b[0m\u001b[1;33m\u001b[0m\u001b[1;33m\u001b[0m\u001b[0m\n",
      "\u001b[1;32m~\\Documents\\Computer-Vision\\Segundo Avance\\trafficSignDetection.py\u001b[0m in \u001b[0;36mdetectROI\u001b[1;34m(path)\u001b[0m\n\u001b[0;32m     18\u001b[0m     \u001b[1;31m#Read the Image\u001b[0m\u001b[1;33m\u001b[0m\u001b[1;33m\u001b[0m\u001b[1;33m\u001b[0m\u001b[0m\n\u001b[0;32m     19\u001b[0m     \u001b[0mimage\u001b[0m\u001b[1;33m=\u001b[0m\u001b[0mcv2\u001b[0m\u001b[1;33m.\u001b[0m\u001b[0mimread\u001b[0m\u001b[1;33m(\u001b[0m\u001b[0mpath\u001b[0m\u001b[1;33m)\u001b[0m\u001b[1;33m\u001b[0m\u001b[1;33m\u001b[0m\u001b[0m\n\u001b[1;32m---> 20\u001b[1;33m     \u001b[0mimage\u001b[0m\u001b[1;33m=\u001b[0m\u001b[0mcv2\u001b[0m\u001b[1;33m.\u001b[0m\u001b[0mcvtColor\u001b[0m\u001b[1;33m(\u001b[0m\u001b[0mimage\u001b[0m\u001b[1;33m,\u001b[0m\u001b[0mcv2\u001b[0m\u001b[1;33m.\u001b[0m\u001b[0mCOLOR_BGR2RGB\u001b[0m\u001b[1;33m)\u001b[0m\u001b[1;33m\u001b[0m\u001b[1;33m\u001b[0m\u001b[0m\n\u001b[0m\u001b[0;32m     21\u001b[0m \u001b[1;33m\u001b[0m\u001b[0m\n\u001b[0;32m     22\u001b[0m     \u001b[1;31m## Detect ROI on Cr Channel##\u001b[0m\u001b[1;33m\u001b[0m\u001b[1;33m\u001b[0m\u001b[1;33m\u001b[0m\u001b[0m\n",
      "\u001b[1;31merror\u001b[0m: OpenCV(4.0.1) C:\\ci\\opencv-suite_1573470242804\\work\\modules\\imgproc\\src\\color.cpp:181: error: (-215:Assertion failed) !_src.empty() in function 'cv::cvtColor'\n"
     ]
    }
   ],
   "source": [
    "# image ingest\n",
    "\n",
    "image_list = open(\"data/traffic_filename_list.txt\", \"r\")\n",
    "data = []\n",
    "properties = []\n",
    "random.seed(10)\n",
    "\n",
    "for img_filename in image_list:\n",
    "\n",
    "    img_filename = img_filename.replace(\"\\n\", \"\")\n",
    "    words = img_filename.split(\"/\")\n",
    "    img_category = words[2]\n",
    "    if  True: #    \n",
    "        #imagenROI, ima_umbralizada, properties, ima_prueba = roi.extraccion_ROI(\n",
    "        #    img_filename, img_category)\n",
    "        print(img_filename)\n",
    "        diccionario,region,imagenROI= roi2.detectROI(img_filename)\n",
    "        features=[]\n",
    "        i=0\n",
    "        for dic in diccionario:\n",
    "            \n",
    "            _,properties=roi2.dict2list(dic,keys)\n",
    "            features.append([img_filename,img_category]+properties+[i])\n",
    "            i+=1\n",
    "        # plt.imshow(imagenROI)\n",
    "\n",
    "        #filename_out=\"data/output/\"+words[3]\n",
    "        filename_out = \"G:/Unidades compartidas/TIA 2021-II/Imagenes/output/\" + \\\n",
    "            words[3]\n",
    "        cv2.imwrite(filename_out,cv2.cvtColor(imagenROI,cv2.COLOR_RGB2BGR))\n",
    "\n",
    "        #for k in range(len(ima_umbralizada)):\n",
    "        #    filename_segment = \"G:/Unidades compartidas/TIA 2021-II/Imagenes/output/segments/\" + \\\n",
    "        #        img_category+\"_\"+str(k)+\"_\"+words[3]\n",
    "        #    cv2.imwrite(filename_segment, cv2.cvtColor(\n",
    "        #        ima_umbralizada[k], cv2.COLOR_RGB2BGR))\n",
    "        #    print(filename_segment)\n",
    "\n",
    "        data+=features\n",
    "\n",
    "\n",
    "# images properties dataframe\n",
    "col_features = keys\n",
    "col_names = ['img_filename', 'category']+keys  +[\"iindex\"]      \n",
    "\n",
    "df = pd.DataFrame(data, columns=col_names)\n",
    "\n",
    "#clean data\n",
    "df.replace(\"\", \"Nan\", inplace=True)\n",
    "df.dropna( inplace=True)\n",
    "\n",
    "csv_filename = \"data/properties.csv\"\n",
    "df.to_csv(csv_filename)             # guardar datos a archivo csv\n",
    "\n",
    "\n",
    "# print(df2)\n"
   ]
  },
  {
   "cell_type": "code",
   "execution_count": 160,
   "metadata": {},
   "outputs": [
    {
     "name": "stdout",
     "output_type": "stream",
     "text": [
      "category\n",
      "Ceda_el_Paso                 56\n",
      "No_pase                       5\n",
      "Pare                         21\n",
      "Prohibido_Parquear           25\n",
      "Prohibido_U                   5\n",
      "Prohibido_giro_derecha        6\n",
      "Prohibido_giro_izquierda     21\n",
      "Rotonda                       1\n",
      "Velocidad30                  31\n",
      "Velocidad40                  21\n",
      "Velocidad50                  11\n",
      "Velocidad60                   6\n",
      "ruido                       253\n",
      "dtype: int64\n",
      "[[ 2.18376796e-05 -1.77134323e-01  9.45187402e-01 -2.60149459e-01\n",
      "  -6.59783234e-02 -3.35734881e-02 -4.56127849e-02  8.21348038e-04\n",
      "   3.89779583e-04  5.18541806e-04 -1.85269860e-03  1.02382249e-03\n",
      "   2.10743561e-04]\n",
      " [ 5.74889134e-06  2.22668659e-02 -2.69439374e-01 -9.55265447e-01\n",
      "  -7.63070927e-02 -4.55527136e-02 -7.68044561e-02  1.43903710e-04\n",
      "   1.10181984e-03  3.17203455e-04 -2.29570089e-02 -6.85824153e-03\n",
      "  -1.54763660e-03]\n",
      " [ 1.19515642e-04 -9.78166842e-01 -1.76378987e-01  3.09021915e-02\n",
      "  -1.32142274e-03 -4.75912518e-02  8.23610059e-03 -1.00279393e-03\n",
      "  -5.75435755e-04 -1.11413676e-05 -9.37392702e-02  1.36793535e-03\n",
      "   5.97043847e-04]\n",
      " [-1.75620459e-05 -8.74615596e-02 -2.14769673e-02 -1.78608088e-02\n",
      "  -1.77444548e-02 -7.98771064e-02  4.07405858e-02 -6.03106577e-04\n",
      "   6.52745245e-03  5.37487627e-04  9.91549234e-01  1.38337962e-03\n",
      "  -3.67660506e-04]\n",
      " [-1.01432057e-06 -2.86470046e-02  4.87035011e-02 -1.34097004e-01\n",
      "   7.71457796e-01  3.53178977e-01  5.08138771e-01 -1.08733422e-02\n",
      "  -1.36854302e-02 -4.27469592e-03  1.75869993e-02 -8.54526915e-03\n",
      "  -5.62701591e-03]]\n",
      "explained_varianc_ratio [0.54087146 0.37463188 0.06120384 0.01360465 0.00454116]\n"
     ]
    }
   ],
   "source": [
    "# Properties Analysis\n",
    "col_features = keys\n",
    "\n",
    "csv_filename=\"data/properties - copia.csv\"\n",
    "df=pd.read_csv(csv_filename)      # leer archivo csv para probar\n",
    "category=pd.read_csv(\"data/category.csv\")\n",
    "#print(category)  \n",
    "#print(df)\n",
    "\n",
    "df['category']=category['category']\n",
    "print(df.groupby(['category']).size())\n",
    "\n",
    "#df = df[df['category'] != \"ruido\"]      # eliminar ruidos\n",
    "\n",
    "char=[\"Ceda_el_Paso\",\"Pare\",\"Prohibido_Parquear\",\"Prohibido_giro_izquierda\",\"Velocidad30\",\"Velocidad40\",\"Velocidad50\",\"ruido\"]\n",
    "\n",
    "isSelected=df[\"category\"]==char[0]\n",
    "\n",
    "for c in char:\n",
    "    isSelected=isSelected | (df[\"category\"]==c)\n",
    "\n",
    "df = df[isSelected]\n",
    "\n",
    "features=df[col_features]          # separando las propiedades del dataframe\n",
    "corr_coef = features.corr()                     # coeficiente estadistico\n",
    "\n",
    "mu=features.mean()                              # media de cada propiedad\n",
    "sigma=features.var()                            # vector de varianzas  \n",
    "\n",
    "#print(corr_coef)\n",
    "\n",
    "# Normalization \n",
    "features=(features-mu)/sigma\n",
    "\n",
    "# Perform PCA analysis\n",
    "# dos formas de hacer PCA\n",
    "#LAD\n",
    "pca = PCA(n_components=5)       # 1. definiendo cantidad de componentes\n",
    "#pca=PCA(0.8)                                    # 2. por grado semejanza\n",
    "pca.fit(features)                               # aplicación \n",
    "print(pca.components_)\n",
    "print(\"explained_varianc_ratio \" + str(pca.explained_variance_ratio_))\n",
    "\n",
    "reduced_features=pca.transform(features)     \n",
    "\n",
    "df['pca1']=reduced_features[:,0]\n",
    "\n",
    "df['pca2']=reduced_features[:,1]\n",
    "#print(reduced_features[:,1])\n",
    "#print(reduced_features)"
   ]
  },
  {
   "cell_type": "code",
   "execution_count": 161,
   "metadata": {},
   "outputs": [
    {
     "name": "stdout",
     "output_type": "stream",
     "text": [
      "8\n"
     ]
    },
    {
     "data": {
      "text/plain": [
       "<matplotlib.legend.Legend at 0x216eb15c5e0>"
      ]
     },
     "execution_count": 161,
     "metadata": {},
     "output_type": "execute_result"
    },
    {
     "data": {
      "image/png": "[encoded data removed]",
      "text/plain": [
       "<Figure size 432x432 with 1 Axes>"
      ]
     },
     "metadata": {
      "needs_background": "light"
     },
     "output_type": "display_data"
    }
   ],
   "source": [
    "# Plot\n",
    "categories = []\n",
    "\n",
    "fig, ax = plt.subplots(figsize=(6, 6))\n",
    "# \"tab10\" \"tab20\" \"Pastel2\" \"Dark2\" \"Set3\"\n",
    "style = \"tab20\"\n",
    "cmap = matplotlib.cm.get_cmap(style)\n",
    "marker = ['o', 'v', '^', '<', '>', '8', 's',\n",
    "          'p', '*', 'h', 'H', 'D', 'd', 'P', 'X']\n",
    "t = 0\n",
    "for ct, dfC in df.groupby('category'):\n",
    "    scatter = plt.scatter(dfC.pca1, dfC.pca2, color=cmap(t), marker=marker[t])\n",
    "    categories.append(ct)\n",
    "    t = t+1\n",
    "\n",
    "plt.xlabel('PCA 1')\n",
    "plt.ylabel('PCA 2')\n",
    "plt.title('Principal Component Analisys')\n",
    "print(len(categories))\n",
    "ax.legend(categories, loc='center left', bbox_to_anchor=(\n",
    "    1, 0.5), title='traffic sig type')\n",
    "\n",
    "\n",
    "# plt.show()\n"
   ]
  },
  {
   "cell_type": "code",
   "execution_count": 162,
   "metadata": {},
   "outputs": [
    {
     "name": "stdout",
     "output_type": "stream",
     "text": [
      "[1 8 3 2 5 0 5 3 5 7 6 2 3 9 7 1 7 2 4 4 3 5 8 6 7 5 2 7 1 4 7 7 9 9 0 5 8\n",
      " 6 9 0 6 0 3 9 3 3 8 9 0 9 1 7 4 0 6 8 4 5 5 5 3 0 1 3 6 5 4 0 4 9 8 2 5 5\n",
      " 0 6 2 9 8 2 0 8 1 5 4 9 2 2 5 2 8 5 4 4 8 2 4 9 4 4 3 7 7 5 4 1 2 9 9 0 7\n",
      " 5 5 7 6 8 4 1 5 8 4 6 1 0 0 4 1 5 5 7 4 8 8 5 2 1 0 5 8 8 4 9 2 1 8 2 6 7\n",
      " 3 8 3 9 8 2 0 3 0 7 8 5 7 0 8 0 8 8 3 6 0 3 6 2 1 1 7 9 9 4 5 6 5 2 6 4 2\n",
      " 9 0 4 8 7 1 9 3 4 6 8 9 0 0 1 7 2 8 7 8 6 3 0 4 3 6 6 7 2 5 6 1 1 8 1 9 5\n",
      " 7 0 0 2 4 7 3 6 5 2 7 1 3 2 1 6 5 4 4 1 0 7 6 0 3 8 3 6 3 2 7 5 0 4 0 2 8\n",
      " 1 5 8 9 1 9 5 2 1 1 1 3 0 4 7 1 9 6 1 8 4 5 3 0 9 1 0 1 1 1 9 3 5 1 1 0 6\n",
      " 2 1 8 9 4 3 0 8 0 4 8 6 3 1 4 2 9 9 0 2 4 2 3 7 8 0 3 2 1 2 4 6 9 7 0 6 4\n",
      " 0 8 4 4 0 5 0 5 0 1 3 5 4 6 4 1 2 8 1 8 6 6 9 3 0 8 5 2 8 4 6 1 9 5 5 3 4\n",
      " 8 1 2 3 6 1 1 2 2 8 8 9 7 1 7 5 3 7 6 1 8 8 4 2 6 9 2 2 1 5 0 2 2 3 8 2 6\n",
      " 5 0 3 5 0 4 3 7 3 6 6 7 4 0 5 1 0 0 1 2 2 8 9 6 2 2 7 0 8 8 0 9]\n",
      "[7. 7. 7. 0. 7. 7. 7. 0. 7. 0. 0. 7. 7. 0. 7. 7. 7. 7. 7. 7. 1. 1. 1. 7.\n",
      " 7. 7. 7. 7. 3. 3. 3. 3. 2. 7. 2. 2. 2. 7. 7. 4. 7. 7. 4. 5. 7. 5. 7. 6.\n",
      " 7. 6. 6.]\n",
      "entrenamiento:  338\n",
      "validación:  101\n",
      "porcentaje entrenamiento:  0.7699316628701595\n"
     ]
    }
   ],
   "source": [
    "idx= np.random.randint(0,10,features.shape[0])\n",
    "\n",
    "trainData=features[idx>1].astype(np.float32)\n",
    "newcomer=features[idx<=1].astype(np.float32)\n",
    "responses=pd.Categorical(df.category).codes\n",
    "responses=responses[idx==0].astype(np.float32)\n",
    "\n",
    "print(idx)\n",
    "print(responses)\n",
    "print(\"entrenamiento: \",np.sum(idx>1))\n",
    "print(\"validación: \",np.sum(idx<=1))\n",
    "print(\"porcentaje entrenamiento: \",np.sum(idx>1)/(np.sum(idx>1)+np.sum(idx<=1)))"
   ]
  },
  {
   "cell_type": "code",
   "execution_count": 163,
   "metadata": {},
   "outputs": [
    {
     "name": "stdout",
     "output_type": "stream",
     "text": [
      "149\n",
      "accuracy: 149  /  191    78.01047120418848  %\n"
     ]
    }
   ],
   "source": [
    "idx= np.random.randint(0,2,features.shape[0])\n",
    "\n",
    "\n",
    "all_responses=pd.Categorical(df.category).codes\n",
    "#all_responses = np.random.randint(0,10,(features.shape[0],1)).astype(np.float32)\n",
    "\n",
    "all_data=features.to_numpy().astype(np.float32)\n",
    "\n",
    "#PCA\n",
    "all_data=reduced_features.astype(np.float32)\n",
    "\n",
    "\n",
    "trainData=all_data[idx==0]\n",
    "#responses=all_responses[idx==0]\n",
    "\n",
    "lista=all_responses[idx==0]\n",
    "\n",
    "responses=[]\n",
    "for element in lista:\n",
    "    responses.append([element])\n",
    "responses=np.array(responses).astype(np.int32)\n",
    "\n",
    "newcomer=all_data[idx!=0]\n",
    "\n",
    "lista=all_responses[idx!=0]\n",
    "check_responses=[]\n",
    "for element in lista: \n",
    "    check_responses.append([element])\n",
    "check_responses=np.array(check_responses).astype(np.float32)\n",
    "\n",
    "#print(type(trainData))\n",
    "#print(type(responses))\n",
    "\n",
    "#print(trainData.shape)\n",
    "#print(responses.shape)\n",
    "\n",
    "knn = cv2.ml.KNearest_create()\n",
    "\n",
    "knn.train(trainData,cv2.ml.ROW_SAMPLE,responses)\n",
    "\n",
    "ret, results, neighbours, dist = knn.findNearest(newcomer, 3)\n",
    "\n",
    "\n",
    "#print (\"results: \", results,\"\\n\")\n",
    "#print (\"neighbours: \", neighbours,\"\\n\")\n",
    "#print (\"distances: \", dist)\n",
    "accuracy=0\n",
    "\n",
    "for i in range(len(results)):\n",
    "    if results[i]==check_responses[i]:\n",
    "        accuracy+=1\n",
    "\n",
    "print(accuracy)\n",
    "print(\"accuracy:\",accuracy,\" / \",len(results),\"  \",100*accuracy/len(results),\" %\")\n",
    "\n",
    "\n",
    "\n",
    "#print( np. concatenate((results, check_responses), axis=1))\n",
    "#print(results[1])\n",
    "#print(check_responses[1])"
   ]
  },
  {
   "cell_type": "code",
   "execution_count": 164,
   "metadata": {},
   "outputs": [
    {
     "name": "stdout",
     "output_type": "stream",
     "text": [
      "Reporte del Clasificador: \n",
      " <ml_KNearest 00000216EB11DA10>\n",
      "               precision    recall  f1-score   support\n",
      "\n",
      "         0.0       0.79      0.96      0.86        23\n",
      "         1.0       0.57      0.44      0.50         9\n",
      "         2.0       0.50      0.45      0.48        11\n",
      "         3.0       0.55      0.75      0.63         8\n",
      "         4.0       0.64      0.69      0.67        13\n",
      "         5.0       0.44      0.57      0.50         7\n",
      "         6.0       0.20      0.17      0.18         6\n",
      "         7.0       0.92      0.86      0.89       114\n",
      "\n",
      "    accuracy                           0.78       191\n",
      "   macro avg       0.58      0.61      0.59       191\n",
      "weighted avg       0.79      0.78      0.78       191\n",
      "\n",
      "\n"
     ]
    }
   ],
   "source": [
    "from sklearn import metrics\n",
    "model=knn\n",
    "esperado=check_responses\n",
    "prediccion=results\n",
    "print(\"Reporte del Clasificador: \\n %s\\n %s\\n\"\n",
    "      %(model, metrics.classification_report(esperado,prediccion)))"
   ]
  },
  {
   "cell_type": "code",
   "execution_count": 165,
   "metadata": {},
   "outputs": [
    {
     "name": "stdout",
     "output_type": "stream",
     "text": [
      "[[7], [7], [7], [0], [7], [7], [0], [7], [0], [7], [0], [7], [0], [0], [7], [7], [7], [0], [7], [0], [7], [0], [7], [0], [0], [0], [7], [7], [0], [7], [7], [7], [0], [7], [7], [0], [7], [7], [0], [7], [7], [0], [7], [0], [7], [0], [7], [0], [7], [7], [0], [7], [0], [7], [7], [0], [7], [7], [7], [0], [7], [7], [7], [7], [0], [7], [7], [0], [7], [7], [7], [0], [0], [7], [7], [7], [0], [7], [7], [0], [0], [7], [7], [7], [0], [7], [0], [7], [0], [7], [7], [0], [0], [0], [0], [0], [0], [0], [0], [0], [7], [7], [0], [7], [0], [0], [0], [7], [7], [0], [7], [7], [7], [0], [7], [0], [7], [7], [7], [0], [7], [7], [0], [7], [7], [7], [0], [7], [7], [0], [7], [7], [7], [0], [7], [7], [0], [7], [7], [7], [7], [7], [1], [7], [7], [7], [7], [7], [7], [7], [7], [7], [7], [7], [7], [7], [7], [7], [7], [7], [7], [7], [7], [7], [7], [7], [7], [7], [7], [7], [7], [7], [7], [7], [7], [7], [7], [7], [7], [7], [7], [7], [7], [7], [7], [7], [7], [7], [7], [7], [7], [7], [7], [7], [7], [7], [7], [1], [1], [1], [7], [7], [1], [1], [7], [1], [7], [1], [7], [1], [1], [7], [7], [1], [1], [7], [1], [1], [7], [1], [7], [1], [1], [7], [7], [1], [7], [1], [1], [7], [1], [7], [7], [7], [7], [7], [7], [7], [3], [3], [7], [7], [7], [7], [7], [7], [7], [7], [3], [7], [7], [7], [7], [7], [7], [7], [3], [7], [7], [3], [7], [3], [7], [3], [7], [7], [3], [3], [3], [7], [3], [3], [3], [7], [3], [7], [3], [7], [7], [3], [7], [3], [3], [3], [7], [3], [7], [7], [7], [3], [7], [7], [7], [7], [2], [2], [7], [7], [2], [7], [7], [2], [7], [2], [2], [2], [2], [2], [2], [2], [7], [7], [2], [2], [2], [2], [7], [2], [2], [2], [2], [2], [7], [2], [2], [2], [7], [7], [7], [2], [7], [2], [7], [7], [7], [7], [7], [4], [7], [7], [4], [7], [4], [7], [4], [7], [4], [4], [4], [7], [7], [4], [7], [4], [7], [7], [7], [4], [7], [7], [4], [7], [7], [7], [7], [4], [4], [4], [4], [4], [4], [7], [4], [4], [7], [4], [4], [4], [4], [4], [4], [4], [4], [7], [4], [7], [4], [4], [7], [4], [5], [5], [5], [5], [7], [5], [7], [7], [5], [7], [5], [5], [7], [7], [5], [7], [5], [5], [7], [5], [5], [5], [5], [5], [5], [5], [7], [5], [7], [5], [7], [7], [5], [6], [7], [6], [7], [7], [6], [6], [6], [6], [7], [6], [6], [6], [6], [6], [7]]\n"
     ]
    }
   ],
   "source": [
    "lista=pd.Categorical(df.category).codes\n",
    "all_responses=[]\n",
    "for element in lista:\n",
    "    all_responses.append([element])\n",
    "\n",
    "aleatorio = np.random.randint(0,10,(features.shape[0],1)).astype(np.float32)\n",
    "print(all_responses)\n",
    "\n",
    "#print(aleatorio)\n",
    "#print(responses)\n"
   ]
  },
  {
   "cell_type": "code",
   "execution_count": 166,
   "metadata": {},
   "outputs": [
    {
     "name": "stdout",
     "output_type": "stream",
     "text": [
      "439\n"
     ]
    }
   ],
   "source": [
    "print(features.shape[0])"
   ]
  },
  {
   "cell_type": "code",
   "execution_count": 167,
   "metadata": {},
   "outputs": [
    {
     "name": "stdout",
     "output_type": "stream",
     "text": [
      "<class 'numpy.ndarray'>\n",
      "<class 'numpy.ndarray'>\n"
     ]
    },
    {
     "data": {
      "text/plain": [
       "True"
      ]
     },
     "execution_count": 167,
     "metadata": {},
     "output_type": "execute_result"
    },
    {
     "data": {
      "image/png": "[encoded data removed]",
      "text/plain": [
       "<Figure size 432x288 with 1 Axes>"
      ]
     },
     "metadata": {
      "needs_background": "light"
     },
     "output_type": "display_data"
    }
   ],
   "source": [
    "\n",
    "trainData = np.random.randint(0,500,(51,10)).astype(np.float32)\n",
    "responses = np.random.randint(0,10,(51,1)).astype(np.float32)\n",
    "\n",
    "red = trainData[responses.ravel()==0]\n",
    "plt.scatter(red[:,0],red[:,1],80,'r','^')\n",
    "blue = trainData[responses.ravel()==1]\n",
    "plt.scatter(blue[:,0],blue[:,1],80,'b','s')\n",
    "\n",
    "\n",
    "newcomer = np.random.randint(0,100,(5,10)).astype(np.float32)\n",
    "plt.scatter(newcomer[:,0],newcomer[:,1],80,'g','o')\n",
    "\n",
    "\n",
    "print(type(trainData))\n",
    "print(type(responses))\n",
    "\n",
    "knn = cv2.ml.KNearest_create()\n",
    "knn.train(trainData,cv2.ml.ROW_SAMPLE,responses)\n"
   ]
  },
  {
   "cell_type": "code",
   "execution_count": 168,
   "metadata": {},
   "outputs": [
    {
     "ename": "error",
     "evalue": "OpenCV(4.0.1) C:\\ci\\opencv-suite_1573470242804\\work\\modules\\features2d\\src\\akaze.cpp:172: error: (-215:Assertion failed) ! image.empty() in function 'cv::AKAZE_Impl::detectAndCompute'\n",
     "output_type": "error",
     "traceback": [
      "\u001b[1;31m---------------------------------------------------------------------------\u001b[0m",
      "\u001b[1;31merror\u001b[0m                                     Traceback (most recent call last)",
      "\u001b[1;32m~\\AppData\\Local\\Temp/ipykernel_19016/2814268590.py\u001b[0m in \u001b[0;36m<module>\u001b[1;34m\u001b[0m\n\u001b[0;32m      9\u001b[0m \u001b[1;33m\u001b[0m\u001b[0m\n\u001b[0;32m     10\u001b[0m \u001b[0mkp1\u001b[0m\u001b[1;33m,\u001b[0m \u001b[0mdes1\u001b[0m \u001b[1;33m=\u001b[0m \u001b[0malg\u001b[0m\u001b[1;33m.\u001b[0m\u001b[0mdetectAndCompute\u001b[0m\u001b[1;33m(\u001b[0m\u001b[0mimg_ideal\u001b[0m\u001b[1;33m,\u001b[0m\u001b[1;32mNone\u001b[0m\u001b[1;33m)\u001b[0m\u001b[1;33m\u001b[0m\u001b[1;33m\u001b[0m\u001b[0m\n\u001b[1;32m---> 11\u001b[1;33m \u001b[0mkp2\u001b[0m\u001b[1;33m,\u001b[0m \u001b[0mdes2\u001b[0m \u001b[1;33m=\u001b[0m \u001b[0malg\u001b[0m\u001b[1;33m.\u001b[0m\u001b[0mdetectAndCompute\u001b[0m\u001b[1;33m(\u001b[0m\u001b[0mimg_og\u001b[0m\u001b[1;33m,\u001b[0m\u001b[1;32mNone\u001b[0m\u001b[1;33m)\u001b[0m\u001b[1;33m\u001b[0m\u001b[1;33m\u001b[0m\u001b[0m\n\u001b[0m\u001b[0;32m     12\u001b[0m \u001b[1;33m\u001b[0m\u001b[0m\n\u001b[0;32m     13\u001b[0m \u001b[1;31m# create BFMatcher object\u001b[0m\u001b[1;33m\u001b[0m\u001b[1;33m\u001b[0m\u001b[1;33m\u001b[0m\u001b[0m\n",
      "\u001b[1;31merror\u001b[0m: OpenCV(4.0.1) C:\\ci\\opencv-suite_1573470242804\\work\\modules\\features2d\\src\\akaze.cpp:172: error: (-215:Assertion failed) ! image.empty() in function 'cv::AKAZE_Impl::detectAndCompute'\n"
     ]
    }
   ],
   "source": [
    "\n",
    "img_filename=\"data/Prohibidoparq_ideal.png\"\n",
    "\n",
    "img_ideal=cv2.imread(img_filename) \n",
    "img_og=cv2.imread(\"data/traffic_signs/Prohibido_Parquear/Prohibidoparq13.jpg\")\n",
    "\n",
    "vector_size=15\n",
    "#alg= cv2.SIFT_create()\n",
    "alg = cv2.AKAZE_create()\n",
    "\n",
    "kp1, des1 = alg.detectAndCompute(img_ideal,None)\n",
    "kp2, des2 = alg.detectAndCompute(img_og,None)\n",
    "\n",
    "# create BFMatcher object\n",
    "bf = cv2.BFMatcher(cv2.NORM_HAMMING, crossCheck=True)\n",
    "\n",
    "print(type(des1))\n",
    "\n",
    "print(type(des2))\n",
    "\n",
    "# Match descriptors.\n",
    "matches = bf.match(des1,des2)\n",
    "# Sort them in the order of their distance.\n",
    "matches = sorted(matches, key = lambda x:x.distance)\n",
    "# Draw first 10 matches.\n",
    "print(matches[1])\n",
    "\n",
    "\n",
    "list_x = []\n",
    "list_y = []\n",
    "\n",
    "# For each match...\n",
    "for mat in matches:\n",
    "\n",
    "    # Get the matching keypoints for each of the images\n",
    "    img1_idx = mat.queryIdx\n",
    "    img2_idx = mat.trainIdx\n",
    "\n",
    "    # x - columns\n",
    "    # y - rows\n",
    "    # Get the coordinates\n",
    "    (x1, y1) = kp1[img1_idx].pt\n",
    "    (x2, y2) = kp2[img2_idx].pt\n",
    "\n",
    "    # Append to each list\n",
    "    list_x.append(x2)\n",
    "    list_y.append(y2)\n",
    "\n",
    "\n",
    "\n",
    "img3 = cv2.drawMatches(img_ideal,kp1,img_og,kp2,matches[:10],None,flags=cv2.DrawMatchesFlags_NOT_DRAW_SINGLE_POINTS)\n",
    "#cv2.drawContours(img_og,list_kp2, -1, (0, 255, 0), 3)\n",
    "start_point = (int(min(list_x)),int(min(list_y)))\n",
    "end_point = (int(max(list_x)),int(max(list_y)))\n",
    "color = (255, 0, 0)\n",
    "  \n",
    "# Line thickness of 2 px\n",
    "thickness = 10\n",
    "print(start_point)\n",
    "cv2.rectangle(img_og,start_point, end_point,color,thickness  )\n",
    "for i in range(len(list_x)):\n",
    "    cv2.circle(img_og,(int(list_x[i]),int(list_y[i])),60,color,-1)\n",
    "cv2.imwrite('data/out.jpg',img_og)\n",
    "plt.imshow(img_og),plt.show()\n"
   ]
  },
  {
   "cell_type": "code",
   "execution_count": 169,
   "metadata": {},
   "outputs": [
    {
     "name": "stdout",
     "output_type": "stream",
     "text": [
      "['Ceda_el_Paso', 'Pare', 'Prohibido_Parquear', 'Prohibido_giro_izquierda', 'Velocidad30', 'Velocidad40', 'Velocidad50', 'ruido']\n",
      "     Unnamed: 0                                    img_filename      category  \\\n",
      "0             0   data/traffic_signs/Ceda_el_Paso/Cedapaso1.jpg         ruido   \n",
      "1             1  data/traffic_signs/Ceda_el_Paso/Cedapaso10.jpg         ruido   \n",
      "2             2  data/traffic_signs/Ceda_el_Paso/Cedapaso10.jpg         ruido   \n",
      "3             3  data/traffic_signs/Ceda_el_Paso/Cedapaso10.jpg  Ceda_el_Paso   \n",
      "4             4  data/traffic_signs/Ceda_el_Paso/Cedapaso10.jpg         ruido   \n",
      "..          ...                                             ...           ...   \n",
      "451         451      data/traffic_signs/Velocidad50/Vel50_4.jpg   Velocidad50   \n",
      "452         452      data/traffic_signs/Velocidad50/Vel50_5.jpg   Velocidad50   \n",
      "453         453      data/traffic_signs/Velocidad50/Vel50_7.jpg   Velocidad50   \n",
      "454         454      data/traffic_signs/Velocidad50/Vel50_9.jpg   Velocidad50   \n",
      "455         455      data/traffic_signs/Velocidad60/Vel60_1.jpg         ruido   \n",
      "\n",
      "     Compacidad  Redondez  Relacion entre lados  Primer Momento  \\\n",
      "0     13.934465  0.901819              1.236715        3.020354   \n",
      "1     14.292163  0.879249              1.292373        3.057824   \n",
      "2     14.492280  0.867108              1.359266        2.890193   \n",
      "3     15.641448  0.803402              1.074766        3.042233   \n",
      "4     14.193797  0.885342              1.018587        3.137624   \n",
      "..          ...       ...                   ...             ...   \n",
      "451   13.641085  0.921215              1.018519        3.033392   \n",
      "452   13.678305  0.918708              1.010753        3.042323   \n",
      "453   13.795615  0.910896              1.052419        3.041516   \n",
      "454   13.674750  0.918947              1.000000        3.046940   \n",
      "455   13.832983  0.908435              1.004184        3.156779   \n",
      "\n",
      "     Segundo Momento  Tercer Momento  Cuarto Momento  ...  Entropia  \\\n",
      "0           6.733363       10.168578       10.633272  ... -5.662326   \n",
      "1           7.280497       11.057811       11.079375  ... -6.371534   \n",
      "2           6.457510       10.419195       10.757456  ... -6.173017   \n",
      "3           9.144689        9.388592       13.707040  ... -5.916883   \n",
      "4           6.974240       10.556850       11.441828  ... -6.229373   \n",
      "..               ...             ...             ...  ...       ...   \n",
      "451         8.752522       11.614024       11.874969  ... -6.569119   \n",
      "452         8.520850       12.674892       13.148964  ... -6.394029   \n",
      "453         7.884326       11.739456       12.618593  ... -6.966765   \n",
      "454         9.124096       12.068272       12.717316  ... -6.552660   \n",
      "455         7.457560       10.524344       11.803065  ... -5.593974   \n",
      "\n",
      "     Porcentaje de Area Rellena  Umbral usado     x     y    w    h  index  \\\n",
      "0                     55.832270            60    40  1181  208  257      0   \n",
      "1                     64.032332           140  2627  3880  306  237      0   \n",
      "2                     59.210116           120  2429  3069  353  290      1   \n",
      "3                     37.216822            81  1548  1075  461  429      2   \n",
      "4                     56.430771           216  1403   371  275  270      3   \n",
      "..                          ...           ...   ...   ...  ...  ...    ...   \n",
      "451                   44.552791            92  1680  1688  217  221      0   \n",
      "452                   44.011990           138  1039  1449  280  283      0   \n",
      "453                   44.479489           125   448  1393  249  262      0   \n",
      "454                   44.223086           109  1899  1924  216  216      0   \n",
      "455                   59.481375           102  1360  1889  240  241      0   \n",
      "\n",
      "          pca1      pca2  \n",
      "0     6.338197 -5.127603  \n",
      "1     9.295490 -7.926285  \n",
      "2    15.679373 -1.232121  \n",
      "3    -4.098125 -3.631348  \n",
      "4    -8.736106 -6.765330  \n",
      "..         ...       ...  \n",
      "451  -7.643353 -2.097754  \n",
      "452  -8.285870 -2.468421  \n",
      "453  -5.586224 -3.038790  \n",
      "454  -9.027372 -2.491755  \n",
      "455  -9.961663 -7.480101  \n",
      "\n",
      "[439 rows x 23 columns]\n"
     ]
    }
   ],
   "source": [
    "\n",
    "\n",
    "print(categories)\n",
    "\n",
    "df_cla = [x for _, x in df.groupby('category')]\n",
    "print(df)\n"
   ]
  },
  {
   "cell_type": "code",
   "execution_count": null,
   "metadata": {},
   "outputs": [],
   "source": []
  },
  {
   "cell_type": "code",
   "execution_count": null,
   "metadata": {},
   "outputs": [],
   "source": []
  },
  {
   "cell_type": "code",
   "execution_count": null,
   "metadata": {},
   "outputs": [],
   "source": []
  }
 ],
 "metadata": {
  "colab": {
   "authorship_tag": "ABX9TyOCF5Ty0/M9073fE45FBhS/",
   "collapsed_sections": [],
   "include_colab_link": true,
   "name": "Pruebas.ipynb",
   "provenance": []
  },
  "kernelspec": {
   "display_name": "Python 3 (ipykernel)",
   "language": "python",
   "name": "python3"
  },
  "language_info": {
   "codemirror_mode": {
    "name": "ipython",
    "version": 3
   },
   "file_extension": ".py",
   "mimetype": "text/x-python",
   "name": "python",
   "nbconvert_exporter": "python",
   "pygments_lexer": "ipython3",
   "version": "3.8.8"
  }
 },
 "nbformat": 4,
 "nbformat_minor": 4
}
