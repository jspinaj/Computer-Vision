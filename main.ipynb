{
 "cells": [
  {
   "cell_type": "markdown",
   "metadata": {
    "colab_type": "text",
    "id": "view-in-github"
   },
   "source": [
    "<a href=\"https://colab.research.google.com/github/jspinaj/Computer-Vision/blob/main/Pruebas.ipynb\" target=\"_parent\"><img src=\"https://colab.research.google.com/assets/colab-badge.svg\" alt=\"Open In Colab\"/></a>"
   ]
  },
  {
   "cell_type": "markdown",
   "metadata": {
    "id": "xlM7W35dORIe"
   },
   "source": [
    "# Main Jupyter Notebook\n"
   ]
  },
  {
   "cell_type": "code",
   "execution_count": null,
   "metadata": {},
   "outputs": [],
   "source": [
    "# Setup \n",
    "#pip uninstall opencv-python\n",
    "# pip install opencv-contrib-python\n",
    "import imageio\n",
    "import numpy as np\n",
    "import random\n",
    "import pandas as pd\n",
    "import os\n",
    "from math import log10, copysign\n",
    "\n",
    "import cv2\n",
    "import matplotlib\n",
    "from matplotlib import pyplot as plt\n",
    "from sklearn.decomposition import PCA\n",
    "\n",
    "import extraerROI as roi"
   ]
  },
  {
   "cell_type": "code",
   "execution_count": null,
   "metadata": {},
   "outputs": [],
   "source": [
    "img_filename=\"data/traffic_signs/Flecha_Derecha/Flechader4.jpg\"\n",
    "\n",
    "imagenROI,ima_umbralizada,var,ima_prueba= roi.extraccion_ROI(img_filename,\"v\")\n",
    "    \n",
    "filename = \"data/my_gif.GIF\"\n",
    "#imageio.mimsave(filename, ima_prueba,fps=2)\n",
    "#img_plot(img_og,img_processed,img_BW,filename_out)\n",
    "\n",
    "for k in range(len(ima_umbralizada)):\n",
    "    print(ima_umbralizada[k])\n",
    "\n",
    "print(ima_umbralizada)\n",
    "\n",
    "\n",
    "\n",
    "#print(ima_umbralizada.size()) \n",
    "plt.imshow(imagenROI)\n"
   ]
  },
  {
   "cell_type": "code",
   "execution_count": null,
   "metadata": {},
   "outputs": [],
   "source": [
    "# image ingest\n",
    "\n",
    "image_list = open(\"data/traffic_filename_list.txt\", \"r\")  \n",
    "data=[]\n",
    "properties=[]\n",
    "random.seed(10)\n",
    "\n",
    "for img_filename in image_list:\n",
    "\n",
    "    img_filename=img_filename.replace(\"\\n\",\"\")  \n",
    "    words = img_filename.split(\"/\")\n",
    "    img_category=words[2]\n",
    "    if True: #img_category=='Pare' :\n",
    "        #print(img_filename)\n",
    "        imagenROI,ima_umbralizada,properties,ima_prueba= roi.extraccion_ROI(img_filename,img_category)\n",
    "        #plt.imshow(imagenROI)\n",
    "        \n",
    "\n",
    "       \n",
    "        #ilename_out=\"data/output/\"+words[3]\n",
    "        filename_out= \"G:/Unidades compartidas/TIA 2021-II/Imagenes/output/\"+words[3]\n",
    "        #cv2.imwrite(filename_out,cv2.cvtColor(imagenROI,cv2.COLOR_RGB2BGR))\n",
    "\n",
    "        for k in range(len(ima_umbralizada)):\n",
    "            filename_segment= \"G:/Unidades compartidas/TIA 2021-II/Imagenes/output/segments/\"+img_category+\"_\"+str(k)+\"_\"+words[3]\n",
    "            cv2.imwrite(filename_segment,cv2.cvtColor(ima_umbralizada[k],cv2.COLOR_RGB2BGR))\n",
    "            print(filename_segment)\n",
    "\n",
    "        data+=properties\n",
    "\n",
    "\n",
    "# images properties dataframe\n",
    "col_names=['img_filename','category','long_arc','redon','rel','Hu0','Hu1','Hu2','Hu3','Hu4','Hu5','Hu6','i']\n",
    "col_features=col_names[1:-2]\n",
    "df=pd.DataFrame(data, columns = col_names)\n",
    "\n",
    "csv_filename=\"data/properties.csv\"\n",
    "df.to_csv(csv_filename)             # guardar datos a archivo csv\n",
    "\n",
    "\n",
    "\n",
    "#print(df2)"
   ]
  },
  {
   "cell_type": "code",
   "execution_count": null,
   "metadata": {},
   "outputs": [],
   "source": [
    "csv_filename=\"data/properties.csv\"\n",
    "\n",
    "col_features=col_names[2:-2]\n",
    "df=pd.DataFrame(data, columns = col_names)\n",
    "\n",
    "ima_gris=imagenROI[:][:][1]\n",
    "ret,th1 = cv2.threshold(ima_gris,100,255,cv2.THRESH_BINARY)\n",
    "moments = cv2.moments(th1)\n",
    "huMoments = cv2.HuMoments(moments).flatten()\n",
    "print(type(huMoments))\n",
    "\n",
    "for i in range(0,7):\n",
    "    huMoments[i] = -1* copysign(1.0, huMoments[i]) * log10(abs(huMoments[i]))\n",
    "  \n",
    "#huMoments=huMoments.transpose()    \n",
    "huMoments=huMoments.tolist()\n",
    "print(huMoments)\n",
    "\n",
    "var2=huMoments+[1,4,3]\n",
    "print(df.shape)\n",
    "print(col_features)\n",
    "#print(features)\n",
    "\n",
    "df.groupby(['category']).size()\n"
   ]
  },
  {
   "cell_type": "code",
   "execution_count": 13,
   "metadata": {},
   "outputs": [
    {
     "name": "stdout",
     "output_type": "stream",
     "text": [
      "[[ 2.00862567e-05 -9.90138890e-01  1.40021552e-01  3.94106557e-03\n",
      "   1.62297314e-03  7.68696646e-05  8.48003546e-04  1.11506235e-04\n",
      "  -1.97315352e-04 -3.05214019e-05]\n",
      " [-6.26238952e-05  1.39924808e-01  9.89994756e-01 -1.38957667e-02\n",
      "  -9.86306924e-03 -3.54772112e-03 -5.26257915e-03  2.73085729e-05\n",
      "   4.02085705e-04  7.81635454e-04]\n",
      " [-5.50652179e-04 -6.65271168e-03 -1.67390063e-02 -8.95971740e-01\n",
      "  -3.19370498e-01 -2.27599333e-01 -2.07609130e-01  1.44912215e-03\n",
      "   2.16105155e-03  1.61048913e-03]]\n",
      "explained_varianc_ratio [0.91298051 0.08498501 0.00200576]\n"
     ]
    }
   ],
   "source": [
    "# Properties Analysis\n",
    "col_names=['img_filename','category','long_arc','redon','rel','Hu0','Hu1','Hu2','Hu3','Hu4','Hu5','Hu6','i']\n",
    "col_features=col_names[2:-1]\n",
    "\n",
    "csv_filename=\"data/properties.csv\"\n",
    "df=pd.read_csv(csv_filename )      # leer archivo csv para probar\n",
    "\n",
    "\n",
    "df = df[df['category'] != \"ruido\"]      # eliminar ruidos\n",
    "\n",
    "features=df[col_features]          # separando las propiedades del dataframe\n",
    "corr_coef = features.corr()                     # coeficiente estadistico\n",
    "\n",
    "mu=features.mean()                              # media de cada propiedad\n",
    "sigma=features.var()                            # vector de varianzas  \n",
    "\n",
    "#print(corr_coef)\n",
    "\n",
    "# Normalization \n",
    "features=(features-mu)/sigma\n",
    "\n",
    "# Perform PCA analysis\n",
    "# dos formas de hacer PCA\n",
    "#LAD\n",
    "pca = PCA(n_components=3)       # 1. definiendo cantidad de componentes\n",
    "#pca=PCA(0.8)                                    # 2. por grado semejanza\n",
    "pca.fit(features)                               # aplicación \n",
    "print(pca.components_)\n",
    "print(\"explained_varianc_ratio \" + str(pca.explained_variance_ratio_))\n",
    "\n",
    "reduced_features=pca.transform(features)     \n",
    "\n",
    "df['pca1']=reduced_features[:,0]\n",
    "\n",
    "df['pca2']=reduced_features[:,1]\n",
    "#print(reduced_features[:,1])\n",
    "#print(reduced_features)\n"
   ]
  },
  {
   "cell_type": "code",
   "execution_count": null,
   "metadata": {},
   "outputs": [],
   "source": [
    "col_names=['img_filename','category','long_arc','redon','rel','Hu0','Hu1','Hu2','Hu3','Hu4','Hu5','Hu6','i']\n",
    "col_features=col_names[2:-1]\n",
    "print(col_features)"
   ]
  },
  {
   "cell_type": "code",
   "execution_count": 18,
   "metadata": {},
   "outputs": [
    {
     "name": "stdout",
     "output_type": "stream",
     "text": [
      "11\n"
     ]
    },
    {
     "data": {
      "text/plain": [
       "<matplotlib.legend.Legend at 0x1d471e2fbb0>"
      ]
     },
     "execution_count": 18,
     "metadata": {},
     "output_type": "execute_result"
    },
    {
     "data": {
      "image/png": "[encoded data removed]",
      "text/plain": [
       "<Figure size 432x432 with 1 Axes>"
      ]
     },
     "metadata": {
      "needs_background": "light"
     },
     "output_type": "display_data"
    }
   ],
   "source": [
    "# Plot\n",
    "categories=[]\n",
    "\n",
    "fig, ax = plt.subplots(figsize=(6, 6))\n",
    "# \"tab10\" \"tab20\" \"Pastel2\" \"Dark2\" \"Set3\"\n",
    "style= \"tab20\"\n",
    "cmap = matplotlib.cm.get_cmap(style)\n",
    "marker=['o', 'v', '^', '<', '>', '8', 's', 'p', '*', 'h', 'H', 'D', 'd', 'P', 'X']\n",
    "t=0\n",
    "for ct,dfC in  df.groupby('category'):\n",
    "    scatter=plt.scatter(dfC.pca1, dfC.pca2, color=cmap(t),marker=marker[t])\n",
    "    categories.append(ct)\n",
    "    t=t+1\n",
    "\n",
    "plt.xlabel('PCA 1')\n",
    "plt.ylabel('PCA 2')\n",
    "plt.title('Principal Component Analisys')\n",
    "print(len(categories))\n",
    "ax.legend(categories,loc='center left', bbox_to_anchor=(1, 0.5),title='traffic sig type')\n",
    "\n",
    "\n",
    "#plt.show()\n"
   ]
  },
  {
   "cell_type": "code",
   "execution_count": 202,
   "metadata": {},
   "outputs": [
    {
     "name": "stdout",
     "output_type": "stream",
     "text": [
      "[0 0 0 1 1 1 1 1 1 1 1 1 0 0 1 1 0 0 1 0 1 0 1 1 0 0 0 0 1 0 0 0 0 0 0 1 0\n",
      " 1 1 1 0 0 0 0 1 1 0 1 0 1 0 0 1 0 0 0 0 0 0 0 1 0 0 0 0 0 1 0 0 1 1 0 1 0\n",
      " 0 1 0 0 1 0 0 1 0 0 0 1 1 1 0 1 1 1 0 0 1 1 1 0 0 1 1 1 0 0 1 1 0 1 1 0 0\n",
      " 1 1 0 1 0 0 1 1 1 0 0 1 0 0]\n",
      "[ 0.  0.  0.  1.  1.  1.  1.  1.  1.  1.  1.  2.  2.  3.  3.  3.  3.  3.\n",
      "  4.  4.  4.  4.  4.  4.  4.  4.  4.  4.  4.  4.  4.  4.  4.  7.  7.  7.\n",
      "  7.  7.  7.  7.  7.  7.  7.  7.  7.  7.  5.  5.  5.  5.  5.  5.  5.  5.\n",
      "  5.  6.  6.  8.  8.  8.  8.  8.  8.  8.  8.  8.  8.  9. 10.]\n"
     ]
    }
   ],
   "source": [
    "idx= np.random.randint(0,2,features.shape[0])\n",
    "\n",
    "trainData=features[idx==0].astype(np.float32)\n",
    "newcomer=features[idx!=0].astype(np.float32)\n",
    "responses=pd.Categorical(df.category).codes\n",
    "responses=responses[idx==0].astype(np.float32)\n",
    "\n",
    "print(idx)\n",
    "print(responses)\n"
   ]
  },
  {
   "cell_type": "code",
   "execution_count": 210,
   "metadata": {},
   "outputs": [
    {
     "name": "stdout",
     "output_type": "stream",
     "text": [
      "[[0. 1.]\n",
      " [6. 6.]\n",
      " [0. 0.]\n",
      " [2. 2.]\n",
      " [0. 4.]\n",
      " [0. 5.]\n",
      " [3. 8.]\n",
      " [5. 7.]\n",
      " [5. 2.]\n",
      " [5. 4.]\n",
      " [0. 1.]\n",
      " [0. 7.]\n",
      " [3. 6.]\n",
      " [3. 3.]\n",
      " [4. 5.]\n",
      " [0. 1.]\n",
      " [2. 3.]\n",
      " [5. 7.]\n",
      " [4. 4.]\n",
      " [9. 1.]\n",
      " [1. 3.]\n",
      " [1. 1.]\n",
      " [0. 1.]\n",
      " [9. 5.]\n",
      " [6. 2.]\n",
      " [1. 3.]\n",
      " [9. 6.]\n",
      " [3. 6.]\n",
      " [1. 1.]\n",
      " [1. 9.]\n",
      " [6. 7.]\n",
      " [0. 8.]\n",
      " [6. 9.]\n",
      " [0. 6.]\n",
      " [1. 0.]\n",
      " [0. 8.]\n",
      " [5. 8.]\n",
      " [1. 8.]\n",
      " [0. 6.]\n",
      " [7. 5.]\n",
      " [0. 1.]\n",
      " [1. 3.]\n",
      " [5. 1.]\n",
      " [4. 8.]\n",
      " [1. 1.]\n",
      " [6. 5.]\n",
      " [5. 8.]\n",
      " [2. 1.]\n",
      " [1. 8.]\n",
      " [1. 0.]\n",
      " [7. 7.]\n",
      " [0. 9.]\n",
      " [0. 4.]\n",
      " [4. 3.]\n",
      " [1. 3.]\n",
      " [4. 0.]\n",
      " [6. 6.]\n",
      " [5. 0.]]\n"
     ]
    }
   ],
   "source": [
    "idx= np.random.randint(0,2,features.shape[0])\n",
    "\n",
    "\n",
    "all_responses=pd.Categorical(df.category).codes\n",
    "all_responses = np.random.randint(0,10,(features.shape[0],1)).astype(np.float32)\n",
    "all_data=features.to_numpy().astype(np.float32)\n",
    "\n",
    "trainData=all_data[idx==0]\n",
    "responses=all_responses[idx==0]\n",
    "#.astype(np.int32)\n",
    "\n",
    "newcomer=all_data[idx!=0]\n",
    "check_responses=all_responses[idx!=0].astype(np.float32)\n",
    "\n",
    "#print(type(trainData))\n",
    "#print(type(responses))\n",
    "\n",
    "#print(trainData.shape)\n",
    "#print(responses.shape)\n",
    "\n",
    "knn = cv2.ml.KNearest_create()\n",
    "\n",
    "knn.train(trainData,cv2.ml.ROW_SAMPLE,responses)\n",
    "\n",
    "ret, results, neighbours, dist = knn.findNearest(newcomer, 3)\n",
    "\n",
    "\n",
    "#print (\"results: \", results,\"\\n\")\n",
    "#print (\"neighbours: \", neighbours,\"\\n\")\n",
    "#print (\"distances: \", dist)\n",
    "print( np. concatenate((results, check_responses), axis=1))"
   ]
  },
  {
   "cell_type": "code",
   "execution_count": 177,
   "metadata": {},
   "outputs": [
    {
     "name": "stdout",
     "output_type": "stream",
     "text": [
      "125\n"
     ]
    }
   ],
   "source": [
    "print(features.shape[0])"
   ]
  },
  {
   "cell_type": "code",
   "execution_count": 196,
   "metadata": {},
   "outputs": [
    {
     "name": "stdout",
     "output_type": "stream",
     "text": [
      "<class 'numpy.ndarray'>\n",
      "<class 'numpy.ndarray'>\n"
     ]
    },
    {
     "data": {
      "text/plain": [
       "True"
      ]
     },
     "execution_count": 196,
     "metadata": {},
     "output_type": "execute_result"
    },
    {
     "data": {
      "image/png": "[encoded data removed]",
      "text/plain": [
       "<Figure size 432x288 with 1 Axes>"
      ]
     },
     "metadata": {
      "needs_background": "light"
     },
     "output_type": "display_data"
    }
   ],
   "source": [
    "\n",
    "trainData = np.random.randint(0,500,(51,10)).astype(np.float32)\n",
    "responses = np.random.randint(0,10,(51,1)).astype(np.float32)\n",
    "\n",
    "red = trainData[responses.ravel()==0]\n",
    "plt.scatter(red[:,0],red[:,1],80,'r','^')\n",
    "blue = trainData[responses.ravel()==1]\n",
    "plt.scatter(blue[:,0],blue[:,1],80,'b','s')\n",
    "\n",
    "\n",
    "newcomer = np.random.randint(0,100,(5,10)).astype(np.float32)\n",
    "plt.scatter(newcomer[:,0],newcomer[:,1],80,'g','o')\n",
    "\n",
    "\n",
    "print(type(trainData))\n",
    "print(type(responses))\n",
    "\n",
    "knn = cv2.ml.KNearest_create()\n",
    "knn.train(trainData,cv2.ml.ROW_SAMPLE,responses)\n"
   ]
  },
  {
   "cell_type": "code",
   "execution_count": null,
   "metadata": {},
   "outputs": [],
   "source": [
    "\n",
    "img_filename=\"data/Prohibidoparq_ideal.png\"\n",
    "\n",
    "img_ideal=cv2.imread(img_filename) \n",
    "img_og=cv2.imread(\"data/traffic_signs/Prohibido_Parquear/Prohibidoparq13.jpg\")\n",
    "\n",
    "vector_size=15\n",
    "#alg= cv2.SIFT_create()\n",
    "alg = cv2.AKAZE_create()\n",
    "\n",
    "kp1, des1 = alg.detectAndCompute(img_ideal,None)\n",
    "kp2, des2 = alg.detectAndCompute(img_og,None)\n",
    "\n",
    "# create BFMatcher object\n",
    "bf = cv2.BFMatcher(cv2.NORM_HAMMING, crossCheck=True)\n",
    "\n",
    "print(type(des1))\n",
    "\n",
    "print(type(des2))\n",
    "\n",
    "# Match descriptors.\n",
    "matches = bf.match(des1,des2)\n",
    "# Sort them in the order of their distance.\n",
    "matches = sorted(matches, key = lambda x:x.distance)\n",
    "# Draw first 10 matches.\n",
    "print(matches[1])\n",
    "\n",
    "\n",
    "list_x = []\n",
    "list_y = []\n",
    "\n",
    "# For each match...\n",
    "for mat in matches:\n",
    "\n",
    "    # Get the matching keypoints for each of the images\n",
    "    img1_idx = mat.queryIdx\n",
    "    img2_idx = mat.trainIdx\n",
    "\n",
    "    # x - columns\n",
    "    # y - rows\n",
    "    # Get the coordinates\n",
    "    (x1, y1) = kp1[img1_idx].pt\n",
    "    (x2, y2) = kp2[img2_idx].pt\n",
    "\n",
    "    # Append to each list\n",
    "    list_x.append(x2)\n",
    "    list_y.append(y2)\n",
    "\n",
    "\n",
    "\n",
    "img3 = cv2.drawMatches(img_ideal,kp1,img_og,kp2,matches[:10],None,flags=cv2.DrawMatchesFlags_NOT_DRAW_SINGLE_POINTS)\n",
    "#cv2.drawContours(img_og,list_kp2, -1, (0, 255, 0), 3)\n",
    "start_point = (int(min(list_x)),int(min(list_y)))\n",
    "end_point = (int(max(list_x)),int(max(list_y)))\n",
    "color = (255, 0, 0)\n",
    "  \n",
    "# Line thickness of 2 px\n",
    "thickness = 10\n",
    "print(start_point)\n",
    "cv2.rectangle(img_og,start_point, end_point,color,thickness  )\n",
    "for i in range(len(list_x)):\n",
    "    cv2.circle(img_og,(int(list_x[i]),int(list_y[i])),60,color,-1)\n",
    "cv2.imwrite('data/out.jpg',img_og)\n",
    "plt.imshow(img_og),plt.show()\n"
   ]
  },
  {
   "cell_type": "code",
   "execution_count": null,
   "metadata": {},
   "outputs": [],
   "source": [
    "img_filename=\"data/traffic_signs/Prohibido_Parquear/Prohibidoparq29.jpg\"\n",
    "img_og=cv2.imread(img_filename)     #original image\n",
    "\n",
    "\n",
    "\n"
   ]
  },
  {
   "cell_type": "code",
   "execution_count": null,
   "metadata": {},
   "outputs": [],
   "source": [
    "img_filename=\"data/traffic_signs/Prohibido_Parquear/Prohibidoparq29.jpg\"\n",
    "\n",
    "words[0]\n",
    "\n",
    "words[3]\n"
   ]
  },
  {
   "cell_type": "code",
   "execution_count": null,
   "metadata": {},
   "outputs": [],
   "source": []
  },
  {
   "cell_type": "code",
   "execution_count": null,
   "metadata": {},
   "outputs": [],
   "source": [
    "\n",
    "\n",
    "print(categories)\n",
    "\n",
    "df_cla = [x for _, x in df.groupby('category')]\n",
    "print(df)\n"
   ]
  }
 ],
 "metadata": {
  "colab": {
   "authorship_tag": "ABX9TyOCF5Ty0/M9073fE45FBhS/",
   "collapsed_sections": [],
   "include_colab_link": true,
   "name": "Pruebas.ipynb",
   "provenance": []
  },
  "kernelspec": {
   "display_name": "Python 3 (ipykernel)",
   "language": "python",
   "name": "python3"
  },
  "language_info": {
   "codemirror_mode": {
    "name": "ipython",
    "version": 3
   },
   "file_extension": ".py",
   "mimetype": "text/x-python",
   "name": "python",
   "nbconvert_exporter": "python",
   "pygments_lexer": "ipython3",
   "version": "3.8.2"
  }
 },
 "nbformat": 4,
 "nbformat_minor": 4
}
